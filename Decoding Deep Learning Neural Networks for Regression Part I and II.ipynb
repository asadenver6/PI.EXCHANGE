{
  "nbformat": 4,
  "nbformat_minor": 0,
  "metadata": {
    "colab": {
      "name": "Blog 8- Neural Networks",
      "provenance": [],
      "collapsed_sections": []
    },
    "kernelspec": {
      "name": "python3",
      "display_name": "Python 3"
    }
  },
  "cells": [
    {
      "cell_type": "markdown",
      "metadata": {
        "id": "WgQiiPtKEjbY"
      },
      "source": [
        "## Importing the Required libraries"
      ]
    },
    {
      "cell_type": "code",
      "metadata": {
        "id": "4SK_W9TzJRO3"
      },
      "source": [
        "import pandas as pd\r\n",
        "import numpy as np\r\n",
        "from sklearn import preprocessing\r\n",
        "from sklearn.model_selection import train_test_split\r\n",
        "import matplotlib.pyplot as plt\r\n",
        "from sklearn.metrics import mean_squared_error\r\n",
        "import seaborn as sns\r\n",
        "import matplotlib.pyplot as plt"
      ],
      "execution_count": null,
      "outputs": []
    },
    {
      "cell_type": "markdown",
      "metadata": {
        "id": "dLzpeg6b6Pp1"
      },
      "source": [
        "## Load the dataset"
      ]
    },
    {
      "cell_type": "code",
      "metadata": {
        "id": "lJWJlwlxKgeT"
      },
      "source": [
        "df= pd.read_csv('housing.csv', skipinitialspace=True)\r\n",
        "df"
      ],
      "execution_count": null,
      "outputs": []
    },
    {
      "cell_type": "markdown",
      "metadata": {
        "id": "GOvmhUAUjR_N"
      },
      "source": [
        "# Histogram of the Target Variable"
      ]
    },
    {
      "cell_type": "code",
      "metadata": {
        "colab": {
          "base_uri": "https://localhost:8080/",
          "height": 387
        },
        "id": "P4VueICNf2_c",
        "outputId": "f8ccd218-9b00-4d84-c86a-1c2832d6524f"
      },
      "source": [
        "sns.displot(df, x=\"median_house_value\", bins=30, stat=\"density\")"
      ],
      "execution_count": null,
      "outputs": [
        {
          "output_type": "execute_result",
          "data": {
            "text/plain": [
              "<seaborn.axisgrid.FacetGrid at 0x7fc50ea076a0>"
            ]
          },
          "metadata": {
            "tags": []
          },
          "execution_count": 20
        },
        {
          "output_type": "display_data",
          "data": {
            "image/png": "[encoded data removed]",
            "text/plain": [
              "<Figure size 360x360 with 1 Axes>"
            ]
          },
          "metadata": {
            "tags": [],
            "needs_background": "light"
          }
        }
      ]
    },
    {
      "cell_type": "markdown",
      "metadata": {
        "id": "37KzdG6b_P5X"
      },
      "source": [
        "## Drop categorical columns and columns with missing values"
      ]
    },
    {
      "cell_type": "code",
      "metadata": {
        "colab": {
          "base_uri": "https://localhost:8080/"
        },
        "id": "jWXgpzy2_dV5",
        "outputId": "73efff55-7e2e-47cb-f2e9-e211408eef43"
      },
      "source": [
        "df.isna().sum()"
      ],
      "execution_count": null,
      "outputs": [
        {
          "output_type": "execute_result",
          "data": {
            "text/plain": [
              "longitude               0\n",
              "latitude                0\n",
              "housing_median_age      0\n",
              "total_rooms             0\n",
              "total_bedrooms        207\n",
              "population              0\n",
              "households              0\n",
              "median_income           0\n",
              "median_house_value      0\n",
              "ocean_proximity         0\n",
              "dtype: int64"
            ]
          },
          "metadata": {
            "tags": []
          },
          "execution_count": 7
        }
      ]
    },
    {
      "cell_type": "code",
      "metadata": {
        "id": "bEXjQ3FBKgoK"
      },
      "source": [
        "df= df.drop('ocean_proximity', axis=1)\r\n",
        "df= df.drop('total_bedrooms', axis=1)"
      ],
      "execution_count": null,
      "outputs": []
    },
    {
      "cell_type": "markdown",
      "metadata": {
        "id": "VqSLe0T-S0Di"
      },
      "source": [
        "## View the dimensions of our dataset"
      ]
    },
    {
      "cell_type": "code",
      "metadata": {
        "id": "bzQOtpC_KgsS",
        "colab": {
          "base_uri": "https://localhost:8080/"
        },
        "outputId": "935fdb45-52f2-4338-f42b-2758783620a6"
      },
      "source": [
        "df.shape"
      ],
      "execution_count": null,
      "outputs": [
        {
          "output_type": "execute_result",
          "data": {
            "text/plain": [
              "(20640, 8)"
            ]
          },
          "metadata": {
            "tags": []
          },
          "execution_count": 9
        }
      ]
    },
    {
      "cell_type": "markdown",
      "metadata": {
        "id": "CcPbP1CgS7X2"
      },
      "source": [
        "## Separate into features (X) & target variable (Y)"
      ]
    },
    {
      "cell_type": "code",
      "metadata": {
        "id": "70r2aLafKguq"
      },
      "source": [
        "X= df.drop('median_house_value', axis=1)"
      ],
      "execution_count": null,
      "outputs": []
    },
    {
      "cell_type": "code",
      "metadata": {
        "id": "ej5Y4nVhKgyn"
      },
      "source": [
        "Y= df['median_house_value']"
      ],
      "execution_count": null,
      "outputs": []
    },
    {
      "cell_type": "markdown",
      "metadata": {
        "id": "kQFj79NgRxbw"
      },
      "source": [
        "## Standardize the features"
      ]
    },
    {
      "cell_type": "code",
      "metadata": {
        "id": "ZRUM-LtEKg7g"
      },
      "source": [
        "min_max_scaler = preprocessing.MinMaxScaler()\r\n",
        "X_scale = min_max_scaler.fit_transform(X)"
      ],
      "execution_count": null,
      "outputs": []
    },
    {
      "cell_type": "markdown",
      "metadata": {
        "id": "LTihUwmXR5Pt"
      },
      "source": [
        "## Create Train, Test & Validation Sets"
      ]
    },
    {
      "cell_type": "code",
      "metadata": {
        "id": "sjGMllfjKhCg"
      },
      "source": [
        "X_train, X_val_and_test, Y_train, Y_val_and_test = train_test_split(X_scale, Y, test_size=0.3)"
      ],
      "execution_count": null,
      "outputs": []
    },
    {
      "cell_type": "code",
      "metadata": {
        "id": "vxin-W6JKhEj"
      },
      "source": [
        "X_val, X_test, Y_val, Y_test = train_test_split(X_val_and_test, Y_val_and_test, test_size=0.5)"
      ],
      "execution_count": null,
      "outputs": []
    },
    {
      "cell_type": "code",
      "metadata": {
        "id": "jJqvYsVhKhGL",
        "colab": {
          "base_uri": "https://localhost:8080/"
        },
        "outputId": "3063db55-ca6f-473f-81a4-d64001a4b182"
      },
      "source": [
        "print(X_train.shape, X_val.shape, X_test.shape, Y_train.shape, Y_val.shape, Y_test.shape)"
      ],
      "execution_count": null,
      "outputs": [
        {
          "output_type": "stream",
          "text": [
            "(14448, 7) (3096, 7) (3096, 7) (14448,) (3096,) (3096,)\n"
          ],
          "name": "stdout"
        }
      ]
    },
    {
      "cell_type": "markdown",
      "metadata": {
        "id": "toXkUsNhQiDR"
      },
      "source": [
        "# **Building the Neural Network**"
      ]
    },
    {
      "cell_type": "code",
      "metadata": {
        "id": "88GWyl9OKhJN"
      },
      "source": [
        "from keras.models import Sequential\r\n",
        "from keras.layers import Dense"
      ],
      "execution_count": null,
      "outputs": []
    },
    {
      "cell_type": "markdown",
      "metadata": {
        "id": "4fhQuuDBQqtB"
      },
      "source": [
        "## Model 1: 1 Input Layer, 2 Hidden Layer, 1 Output Layer\r\n"
      ]
    },
    {
      "cell_type": "code",
      "metadata": {
        "id": "-KeimPzAKhLm"
      },
      "source": [
        "model = Sequential([\r\n",
        "    Dense(15, activation='relu', input_shape=(7,)),\r\n",
        "    Dense(15, activation='relu'),\r\n",
        "    Dense(1),\r\n",
        "])"
      ],
      "execution_count": null,
      "outputs": []
    },
    {
      "cell_type": "code",
      "metadata": {
        "id": "IarNeKy_KhOo"
      },
      "source": [
        "model.compile(optimizer='adam',\r\n",
        "              loss='mean_squared_error')"
      ],
      "execution_count": null,
      "outputs": []
    },
    {
      "cell_type": "code",
      "metadata": {
        "id": "kJpXj2hAKhSq"
      },
      "source": [
        "model.fit(X_train, Y_train,\r\n",
        "          batch_size=32, epochs=500,\r\n",
        "          validation_data=(X_val, Y_val))"
      ],
      "execution_count": null,
      "outputs": []
    },
    {
      "cell_type": "markdown",
      "metadata": {
        "id": "fa_09gNETe9j"
      },
      "source": [
        "## Model Evaluation: MSE & RMSE"
      ]
    },
    {
      "cell_type": "code",
      "metadata": {
        "colab": {
          "base_uri": "https://localhost:8080/"
        },
        "id": "jPIHsLS2p0qU",
        "outputId": "3610ec70-feb9-44c0-a372-e389733b1e3c"
      },
      "source": [
        "y_pred = model.predict(X_test)\r\n",
        "MSE= mean_squared_error(Y_test, y_pred)\r\n",
        "print('Mean_Squared_Error:', MSE )\r\n",
        "\r\n",
        "RMSE= np.sqrt(MSE)\r\n",
        "print('\\n')\r\n",
        "print('Root_Mean_Squared_Error:', RMSE )"
      ],
      "execution_count": null,
      "outputs": [
        {
          "output_type": "stream",
          "text": [
            "Mean_Squared_Error: 4570109317.184616\n",
            "\n",
            "\n",
            "Root_Mean_Squared_Error: 67602.58365761339\n"
          ],
          "name": "stdout"
        }
      ]
    },
    {
      "cell_type": "markdown",
      "metadata": {
        "id": "RjbF1gDOQ-_U"
      },
      "source": [
        "## Model 2: 1 Input Layer, 3 Hidden Layers, 1 Output Layer "
      ]
    },
    {
      "cell_type": "code",
      "metadata": {
        "id": "Va5qGT8MVDfh"
      },
      "source": [
        "model2 = Sequential([\r\n",
        "    Dense(32, activation='relu', input_shape=(7,)),\r\n",
        "    Dense(32, activation='relu'),\r\n",
        "    Dense(32, activation='relu'),\r\n",
        "    Dense(1),\r\n",
        "])\r\n",
        "\r\n",
        "model2.compile(optimizer='adam',\r\n",
        "              loss='mean_squared_error')\r\n",
        "\r\n",
        "model2.fit(X_train, Y_train,\r\n",
        "          batch_size=32, epochs=500,\r\n",
        "          validation_data=(X_val, Y_val))"
      ],
      "execution_count": null,
      "outputs": []
    },
    {
      "cell_type": "markdown",
      "metadata": {
        "id": "H1JZN771TrZi"
      },
      "source": [
        "## Model 2 Evaluation: MSE & RMSE"
      ]
    },
    {
      "cell_type": "code",
      "metadata": {
        "colab": {
          "base_uri": "https://localhost:8080/"
        },
        "id": "tGCXryuvVDzW",
        "outputId": "2305b2cd-abda-48b1-dce0-c16df4b2d854"
      },
      "source": [
        "y_pred = model2.predict(X_test)\r\n",
        "MSE= mean_squared_error(Y_test, y_pred)\r\n",
        "print('Mean_Squared_Error:', MSE )\r\n",
        "\r\n",
        "RMSE= np.sqrt(MSE)\r\n",
        "print('\\n')\r\n",
        "print('Root_Mean_Squared_Error:', RMSE )"
      ],
      "execution_count": null,
      "outputs": [
        {
          "output_type": "stream",
          "text": [
            "Mean_Squared_Error: 4139544211.8438497\n",
            "\n",
            "\n",
            "Root_Mean_Squared_Error: 64339.28979903221\n"
          ],
          "name": "stdout"
        }
      ]
    },
    {
      "cell_type": "markdown",
      "metadata": {
        "id": "bi9OhxDrRH1k"
      },
      "source": [
        "## Model 3: 1 Input Layer, 5 Hidden Layers, 1 Output Layer"
      ]
    },
    {
      "cell_type": "code",
      "metadata": {
        "id": "-0fPLIaqVEbn"
      },
      "source": [
        "model3 = Sequential([\r\n",
        "    Dense(32, activation='relu', input_shape=(7,)),\r\n",
        "    Dense(32, activation='relu'),\r\n",
        "    Dense(32, activation='relu'),\r\n",
        "    Dense(32, activation='relu'),\r\n",
        "    Dense(32, activation='relu'),\r\n",
        "    Dense(1),\r\n",
        "])\r\n",
        "\r\n",
        "model3.compile(optimizer='adam',\r\n",
        "              loss='mean_squared_error')\r\n",
        "\r\n",
        "model3.fit(X_train, Y_train,\r\n",
        "          batch_size=32, epochs=1000,\r\n",
        "          validation_data=(X_val, Y_val))"
      ],
      "execution_count": null,
      "outputs": []
    },
    {
      "cell_type": "markdown",
      "metadata": {
        "id": "IMr6fjp1TxGb"
      },
      "source": [
        "## Model 3 Evaluation: MSE & RMSE"
      ]
    },
    {
      "cell_type": "code",
      "metadata": {
        "colab": {
          "base_uri": "https://localhost:8080/"
        },
        "id": "hqxiA0V-VEt9",
        "outputId": "222c14b7-dccf-4ce0-c329-fb9200555a07"
      },
      "source": [
        "y_pred = model3.predict(X_test)\r\n",
        "MSE= mean_squared_error(Y_test, y_pred)\r\n",
        "print('Mean_Squared_Error:', MSE )\r\n",
        "\r\n",
        "RMSE= np.sqrt(MSE)\r\n",
        "print('\\n')\r\n",
        "print('Root_Mean_Squared_Error:', RMSE )"
      ],
      "execution_count": null,
      "outputs": [
        {
          "output_type": "stream",
          "text": [
            "Mean_Squared_Error: 2869039241.0063443\n",
            "\n",
            "\n",
            "Root_Mean_Squared_Error: 53563.41326881946\n"
          ],
          "name": "stdout"
        }
      ]
    },
    {
      "cell_type": "markdown",
      "metadata": {
        "id": "EkdKKSk566RV"
      },
      "source": [
        "## Model Comparison"
      ]
    },
    {
      "cell_type": "code",
      "metadata": {
        "colab": {
          "base_uri": "https://localhost:8080/",
          "height": 141
        },
        "id": "1rFcHmY29TaS",
        "outputId": "055e2d70-b33d-401c-e2e1-b1b912ba952e"
      },
      "source": [
        "model_comparison= pd.DataFrame({'Model': ['2 Hidden Layers', '3 Hidden Layers', '5 Hidden Layers'],\r\n",
        "                   'RMSE': [76352, 66897, 63282 ]\r\n",
        "                   })\r\n",
        "model_comparison"
      ],
      "execution_count": null,
      "outputs": [
        {
          "output_type": "execute_result",
          "data": {
            "text/html": [
              "<div>\n",
              "<style scoped>\n",
              "    .dataframe tbody tr th:only-of-type {\n",
              "        vertical-align: middle;\n",
              "    }\n",
              "\n",
              "    .dataframe tbody tr th {\n",
              "        vertical-align: top;\n",
              "    }\n",
              "\n",
              "    .dataframe thead th {\n",
              "        text-align: right;\n",
              "    }\n",
              "</style>\n",
              "<table border=\"1\" class=\"dataframe\">\n",
              "  <thead>\n",
              "    <tr style=\"text-align: right;\">\n",
              "      <th></th>\n",
              "      <th>Model</th>\n",
              "      <th>RMSE</th>\n",
              "    </tr>\n",
              "  </thead>\n",
              "  <tbody>\n",
              "    <tr>\n",
              "      <th>0</th>\n",
              "      <td>2 Hidden Layers</td>\n",
              "      <td>76352</td>\n",
              "    </tr>\n",
              "    <tr>\n",
              "      <th>1</th>\n",
              "      <td>3 Hidden Layers</td>\n",
              "      <td>66897</td>\n",
              "    </tr>\n",
              "    <tr>\n",
              "      <th>2</th>\n",
              "      <td>5 Hidden Layers</td>\n",
              "      <td>63282</td>\n",
              "    </tr>\n",
              "  </tbody>\n",
              "</table>\n",
              "</div>"
            ],
            "text/plain": [
              "             Model   RMSE\n",
              "0  2 Hidden Layers  76352\n",
              "1  3 Hidden Layers  66897\n",
              "2  5 Hidden Layers  63282"
            ]
          },
          "metadata": {
            "tags": []
          },
          "execution_count": 41
        }
      ]
    },
    {
      "cell_type": "markdown",
      "metadata": {
        "id": "BxyzQ4cn7xnu"
      },
      "source": [
        "## Fine tuning the Model"
      ]
    },
    {
      "cell_type": "code",
      "metadata": {
        "id": "Z3b6gznWOXra"
      },
      "source": [
        "from keras.wrappers.scikit_learn import KerasRegressor\r\n",
        "import numpy as np\r\n",
        "from sklearn.model_selection import GridSearchCV"
      ],
      "execution_count": null,
      "outputs": []
    },
    {
      "cell_type": "code",
      "metadata": {
        "id": "o_8DI_YIR_mV"
      },
      "source": [
        "np.random.seed(7)"
      ],
      "execution_count": null,
      "outputs": []
    },
    {
      "cell_type": "markdown",
      "metadata": {
        "id": "temVHYmE71oe"
      },
      "source": [
        "## Defining a function"
      ]
    },
    {
      "cell_type": "code",
      "metadata": {
        "id": "cNKQoQTtOX80"
      },
      "source": [
        "def optim_model (init_mode='uniform', activation='relu', optimizer= 'Adam', learn_rate=0.001):\r\n",
        "  model = Sequential([\r\n",
        "    Dense(32, activation='relu', input_shape=(7,),  kernel_initializer= init_mode),\r\n",
        "    Dense(32, activation='relu'),\r\n",
        "    Dense(1),\r\n",
        "])\r\n",
        "  model.compile(optimizer='Adam',\r\n",
        "              loss='mean_squared_error')\r\n",
        "  return model\r\n"
      ],
      "execution_count": null,
      "outputs": []
    },
    {
      "cell_type": "markdown",
      "metadata": {
        "id": "Hdw-Ft_w78Fr"
      },
      "source": [
        "## Hyperparamters"
      ]
    },
    {
      "cell_type": "code",
      "metadata": {
        "id": "IKboEc_YOYGT"
      },
      "source": [
        "optimizer = ['SGD', 'Adam', 'RMSprop']\r\n",
        "learn_rate = [0.001, 0.01, 0.1]\r\n",
        "batch_size = [32,64,128]\r\n",
        "epochs = [500, 1000, 1200]\r\n",
        "init_mode = ['uniform', 'normal','glorot_normal', 'glorot_uniform']\r\n",
        "activation = ['softmax', 'relu', 'tanh']\r\n"
      ],
      "execution_count": null,
      "outputs": []
    },
    {
      "cell_type": "code",
      "metadata": {
        "id": "77UCiNi6OYIi"
      },
      "source": [
        "model = KerasRegressor(build_fn= optim_model)"
      ],
      "execution_count": null,
      "outputs": []
    },
    {
      "cell_type": "markdown",
      "metadata": {
        "id": "vVlJ53nS8Jhj"
      },
      "source": [
        "## Prepare the Grid"
      ]
    },
    {
      "cell_type": "code",
      "metadata": {
        "id": "pC8xGAYsOYKt"
      },
      "source": [
        "param_grid = dict(batch_size=batch_size,\r\n",
        "                  epochs=epochs\r\n",
        "                  )"
      ],
      "execution_count": null,
      "outputs": []
    },
    {
      "cell_type": "markdown",
      "metadata": {
        "id": "Hn75agAP8PIj"
      },
      "source": [
        "## GridSearch"
      ]
    },
    {
      "cell_type": "code",
      "metadata": {
        "id": "HV2dAruYOYNE"
      },
      "source": [
        "grid = GridSearchCV(estimator=model, \r\n",
        "                    param_grid=param_grid, \r\n",
        "                    n_jobs=-1, \r\n",
        "                    cv=5, verbose= True)"
      ],
      "execution_count": null,
      "outputs": []
    },
    {
      "cell_type": "code",
      "metadata": {
        "id": "Hk4Qk0VaOYP6"
      },
      "source": [
        "grid_result = grid.fit(X_train, Y_train)"
      ],
      "execution_count": null,
      "outputs": []
    },
    {
      "cell_type": "code",
      "metadata": {
        "colab": {
          "base_uri": "https://localhost:8080/"
        },
        "id": "mg7wSYM_LDfT",
        "outputId": "cf3dcb03-dd79-4fdc-8936-e5e5fc9600f0"
      },
      "source": [
        "print(\"Best: %f using %s\" % ((grid_result.best_score_), grid_result.best_params_))"
      ],
      "execution_count": null,
      "outputs": [
        {
          "output_type": "stream",
          "text": [
            "Best: -4327079782.400000 using {'batch_size': 32, 'epochs': 1200}\n"
          ],
          "name": "stdout"
        }
      ]
    },
    {
      "cell_type": "code",
      "metadata": {
        "colab": {
          "base_uri": "https://localhost:8080/"
        },
        "id": "biFwFCZRLDps",
        "outputId": "30c243e2-b7ff-48f7-ce43-4fdc3db31dc2"
      },
      "source": [
        "np.sqrt(4327079782.400000)"
      ],
      "execution_count": null,
      "outputs": [
        {
          "output_type": "execute_result",
          "data": {
            "text/plain": [
              "65780.54258213443"
            ]
          },
          "metadata": {
            "tags": []
          },
          "execution_count": 34
        }
      ]
    },
    {
      "cell_type": "markdown",
      "metadata": {
        "id": "x9JBm9HO8eSi"
      },
      "source": [
        "## Full list of hyperparameters that you can experiment with"
      ]
    },
    {
      "cell_type": "code",
      "metadata": {
        "id": "_lX06ZfmOYd_"
      },
      "source": [
        "param_grid = dict(optimizer=optimizer, \r\n",
        "                  learn_rate=learn_rate, \r\n",
        "                  batch_size=batch_size,\r\n",
        "                  epochs=epochs,\r\n",
        "                  init_mode=init_mode,\r\n",
        "                  activation=activation)"
      ],
      "execution_count": null,
      "outputs": []
    }
  ]
}