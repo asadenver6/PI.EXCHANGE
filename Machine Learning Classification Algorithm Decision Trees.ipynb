{
  "nbformat": 4,
  "nbformat_minor": 0,
  "metadata": {
    "kernelspec": {
      "display_name": "Python 3",
      "language": "python",
      "name": "python3"
    },
    "language_info": {
      "codemirror_mode": {
        "name": "ipython",
        "version": 3
      },
      "file_extension": ".py",
      "mimetype": "text/x-python",
      "name": "python",
      "nbconvert_exporter": "python",
      "pygments_lexer": "ipython3",
      "version": "3.6.8"
    },
    "colab": {
      "name": "Blog 4- Implement Decision Trees With Code.ipynb",
      "provenance": []
    }
  },
  "cells": [
    {
      "cell_type": "markdown",
      "metadata": {
        "id": "bvr11q-uRZQU"
      },
      "source": [
        "\r\n",
        "## Import all the libraries that will be used"
      ]
    },
    {
      "cell_type": "code",
      "metadata": {
        "id": "h-8oo8tqRXS7"
      },
      "source": [
        "import numpy as np\r\n",
        "import pandas as pd\r\n",
        "from matplotlib import pyplot as plt\r\n",
        "from sklearn.metrics import classification_report, confusion_matrix\r\n",
        "from sklearn.metrics import plot_precision_recall_curve\r\n",
        "from sklearn.model_selection import train_test_split\r\n",
        "from sklearn import tree\r\n",
        "from sklearn.pipeline import Pipeline\r\n",
        "from sklearn.model_selection import GridSearchCV\r\n",
        "from sklearn.metrics import precision_recall_curve\r\n",
        "from sklearn.tree import DecisionTreeClassifier\r\n",
        "from sklearn.experimental import enable_iterative_imputer\r\n",
        "from sklearn.impute import IterativeImputer\r\n",
        "from sklearn import metrics\r\n",
        "import matplotlib.pyplot as plt\r\n",
        "from sklearn.metrics import roc_curve, auc"
      ],
      "execution_count": null,
      "outputs": []
    },
    {
      "cell_type": "markdown",
      "metadata": {
        "id": "E8EoagdNRuId"
      },
      "source": [
        "## Load the dataset"
      ]
    },
    {
      "cell_type": "code",
      "metadata": {
        "id": "waf0--PuPqpm"
      },
      "source": [
        "data= pd.read_csv('creditscoring.csv')"
      ],
      "execution_count": null,
      "outputs": []
    },
    {
      "cell_type": "markdown",
      "metadata": {
        "id": "MeGnlJ28Ryqc"
      },
      "source": [
        "## View the top 3 rows of data"
      ]
    },
    {
      "cell_type": "code",
      "metadata": {
        "id": "Dm-gPhEMPqpo",
        "outputId": "8c585df1-9e7d-4be8-b6b3-12f633df03ef"
      },
      "source": [
        "data.head(3)"
      ],
      "execution_count": null,
      "outputs": [
        {
          "output_type": "execute_result",
          "data": {
            "text/html": [
              "<div>\n",
              "<style scoped>\n",
              "    .dataframe tbody tr th:only-of-type {\n",
              "        vertical-align: middle;\n",
              "    }\n",
              "\n",
              "    .dataframe tbody tr th {\n",
              "        vertical-align: top;\n",
              "    }\n",
              "\n",
              "    .dataframe thead th {\n",
              "        text-align: right;\n",
              "    }\n",
              "</style>\n",
              "<table border=\"1\" class=\"dataframe\">\n",
              "  <thead>\n",
              "    <tr style=\"text-align: right;\">\n",
              "      <th></th>\n",
              "      <th>duration</th>\n",
              "      <th>history</th>\n",
              "      <th>purpose</th>\n",
              "      <th>amount</th>\n",
              "      <th>savings</th>\n",
              "      <th>employed</th>\n",
              "      <th>installp</th>\n",
              "      <th>marital</th>\n",
              "      <th>coapp</th>\n",
              "      <th>resident</th>\n",
              "      <th>property</th>\n",
              "      <th>age</th>\n",
              "      <th>other</th>\n",
              "      <th>housing</th>\n",
              "      <th>existcr</th>\n",
              "      <th>job</th>\n",
              "      <th>depends</th>\n",
              "      <th>telephon</th>\n",
              "      <th>foreign</th>\n",
              "      <th>good_bad</th>\n",
              "    </tr>\n",
              "  </thead>\n",
              "  <tbody>\n",
              "    <tr>\n",
              "      <th>0</th>\n",
              "      <td>6</td>\n",
              "      <td>4</td>\n",
              "      <td>3.0</td>\n",
              "      <td>1169</td>\n",
              "      <td>5</td>\n",
              "      <td>5</td>\n",
              "      <td>4</td>\n",
              "      <td>3</td>\n",
              "      <td>1</td>\n",
              "      <td>4</td>\n",
              "      <td>1</td>\n",
              "      <td>67</td>\n",
              "      <td>3</td>\n",
              "      <td>2</td>\n",
              "      <td>2</td>\n",
              "      <td>3</td>\n",
              "      <td>1</td>\n",
              "      <td>2</td>\n",
              "      <td>1</td>\n",
              "      <td>good</td>\n",
              "    </tr>\n",
              "    <tr>\n",
              "      <th>1</th>\n",
              "      <td>48</td>\n",
              "      <td>2</td>\n",
              "      <td>3.0</td>\n",
              "      <td>5951</td>\n",
              "      <td>1</td>\n",
              "      <td>3</td>\n",
              "      <td>2</td>\n",
              "      <td>2</td>\n",
              "      <td>1</td>\n",
              "      <td>2</td>\n",
              "      <td>1</td>\n",
              "      <td>22</td>\n",
              "      <td>3</td>\n",
              "      <td>2</td>\n",
              "      <td>1</td>\n",
              "      <td>3</td>\n",
              "      <td>1</td>\n",
              "      <td>1</td>\n",
              "      <td>1</td>\n",
              "      <td>bad</td>\n",
              "    </tr>\n",
              "    <tr>\n",
              "      <th>2</th>\n",
              "      <td>12</td>\n",
              "      <td>4</td>\n",
              "      <td>6.0</td>\n",
              "      <td>2096</td>\n",
              "      <td>1</td>\n",
              "      <td>4</td>\n",
              "      <td>2</td>\n",
              "      <td>3</td>\n",
              "      <td>1</td>\n",
              "      <td>3</td>\n",
              "      <td>1</td>\n",
              "      <td>49</td>\n",
              "      <td>3</td>\n",
              "      <td>2</td>\n",
              "      <td>1</td>\n",
              "      <td>2</td>\n",
              "      <td>2</td>\n",
              "      <td>1</td>\n",
              "      <td>1</td>\n",
              "      <td>good</td>\n",
              "    </tr>\n",
              "  </tbody>\n",
              "</table>\n",
              "</div>"
            ],
            "text/plain": [
              "   duration  history  purpose  amount  savings  employed  installp  marital  \\\n",
              "0         6        4      3.0    1169        5         5         4        3   \n",
              "1        48        2      3.0    5951        1         3         2        2   \n",
              "2        12        4      6.0    2096        1         4         2        3   \n",
              "\n",
              "   coapp  resident  property  age  other  housing  existcr  job  depends  \\\n",
              "0      1         4         1   67      3        2        2    3        1   \n",
              "1      1         2         1   22      3        2        1    3        1   \n",
              "2      1         3         1   49      3        2        1    2        2   \n",
              "\n",
              "   telephon  foreign good_bad  \n",
              "0         2        1     good  \n",
              "1         1        1      bad  \n",
              "2         1        1     good  "
            ]
          },
          "metadata": {
            "tags": []
          },
          "execution_count": 3
        }
      ]
    },
    {
      "cell_type": "markdown",
      "metadata": {
        "id": "eNLIItEqR5uy"
      },
      "source": [
        "## View the dimensions of the dataset"
      ]
    },
    {
      "cell_type": "code",
      "metadata": {
        "id": "w_3etBDYPqpq",
        "outputId": "55e6612f-8b34-4f14-f42d-703449abbc3a"
      },
      "source": [
        "data.shape"
      ],
      "execution_count": null,
      "outputs": [
        {
          "output_type": "execute_result",
          "data": {
            "text/plain": [
              "(1000, 20)"
            ]
          },
          "metadata": {
            "tags": []
          },
          "execution_count": 4
        }
      ]
    },
    {
      "cell_type": "markdown",
      "metadata": {
        "id": "zv3usZWmSAMB"
      },
      "source": [
        "## Extracting the numerical features from the dataset"
      ]
    },
    {
      "cell_type": "code",
      "metadata": {
        "id": "dgjelA4lPqpr"
      },
      "source": [
        "numeric_features= data.select_dtypes(include= ['int64', 'float64'])"
      ],
      "execution_count": null,
      "outputs": []
    },
    {
      "cell_type": "markdown",
      "metadata": {
        "id": "zSoXZ1IeSKyA"
      },
      "source": [
        "## Extracting the categorical features from the dataset"
      ]
    },
    {
      "cell_type": "code",
      "metadata": {
        "id": "ZE-xh55RPqps"
      },
      "source": [
        "categorical_features= data.select_dtypes(include= ['object'])"
      ],
      "execution_count": null,
      "outputs": []
    },
    {
      "cell_type": "markdown",
      "metadata": {
        "id": "k42wkdqKSRjD"
      },
      "source": [
        "## Check the data type of each feature (int, float, object)"
      ]
    },
    {
      "cell_type": "code",
      "metadata": {
        "id": "W9kHASZDPqps",
        "outputId": "c19cfc7d-751d-425c-9a15-f3a283ea78d1"
      },
      "source": [
        "data.info()"
      ],
      "execution_count": null,
      "outputs": [
        {
          "output_type": "stream",
          "text": [
            "<class 'pandas.core.frame.DataFrame'>\n",
            "RangeIndex: 1000 entries, 0 to 999\n",
            "Data columns (total 20 columns):\n",
            " #   Column    Non-Null Count  Dtype  \n",
            "---  ------    --------------  -----  \n",
            " 0   duration  1000 non-null   int64  \n",
            " 1   history   1000 non-null   int64  \n",
            " 2   purpose   988 non-null    float64\n",
            " 3   amount    1000 non-null   int64  \n",
            " 4   savings   1000 non-null   int64  \n",
            " 5   employed  1000 non-null   int64  \n",
            " 6   installp  1000 non-null   int64  \n",
            " 7   marital   1000 non-null   int64  \n",
            " 8   coapp     1000 non-null   int64  \n",
            " 9   resident  1000 non-null   int64  \n",
            " 10  property  1000 non-null   int64  \n",
            " 11  age       1000 non-null   int64  \n",
            " 12  other     1000 non-null   int64  \n",
            " 13  housing   1000 non-null   int64  \n",
            " 14  existcr   1000 non-null   int64  \n",
            " 15  job       1000 non-null   int64  \n",
            " 16  depends   1000 non-null   int64  \n",
            " 17  telephon  1000 non-null   int64  \n",
            " 18  foreign   1000 non-null   int64  \n",
            " 19  good_bad  1000 non-null   object \n",
            "dtypes: float64(1), int64(18), object(1)\n",
            "memory usage: 156.4+ KB\n"
          ],
          "name": "stdout"
        }
      ]
    },
    {
      "cell_type": "markdown",
      "metadata": {
        "id": "GfhTvhypShBb"
      },
      "source": [
        "## Check if there are any missing values in the dataset"
      ]
    },
    {
      "cell_type": "code",
      "metadata": {
        "id": "UKAVDQVCPqpt",
        "outputId": "e09f8070-f48c-444e-ac6a-26184b392e72"
      },
      "source": [
        "for col in data:\n",
        "    missing_values= data[col].isna().sum()\n",
        "    if(missing_values>0):\n",
        "        print('{} {}'.format(col, missing_values))"
      ],
      "execution_count": null,
      "outputs": [
        {
          "output_type": "stream",
          "text": [
            "purpose 12\n"
          ],
          "name": "stdout"
        }
      ]
    },
    {
      "cell_type": "markdown",
      "metadata": {
        "id": "8MsYvm7qStT7"
      },
      "source": [
        "## Check the number of samples for each category in the target variable"
      ]
    },
    {
      "cell_type": "code",
      "metadata": {
        "id": "1JFGTvcyPqpu",
        "outputId": "460d4e12-7d91-442a-9e1b-8b6d567cd137"
      },
      "source": [
        "data['good_bad'].value_counts()"
      ],
      "execution_count": null,
      "outputs": [
        {
          "output_type": "execute_result",
          "data": {
            "text/plain": [
              "good    700\n",
              "bad     300\n",
              "Name: good_bad, dtype: int64"
            ]
          },
          "metadata": {
            "tags": []
          },
          "execution_count": 10
        }
      ]
    },
    {
      "cell_type": "markdown",
      "metadata": {
        "id": "NL-FZoVWS6qA"
      },
      "source": [
        "## Barplot to visualize the number of samples for each category in the target  variable"
      ]
    },
    {
      "cell_type": "code",
      "metadata": {
        "id": "epv0IFzSPqpv",
        "outputId": "2ae8015b-b810-4d34-a5a4-a03650c9e622"
      },
      "source": [
        "data['good_bad'].value_counts().plot.bar( rot=30, color=\"green\", width=0.5)"
      ],
      "execution_count": null,
      "outputs": [
        {
          "output_type": "execute_result",
          "data": {
            "text/plain": [
              "<matplotlib.axes._subplots.AxesSubplot at 0x1ea7863ebe0>"
            ]
          },
          "metadata": {
            "tags": []
          },
          "execution_count": 11
        },
        {
          "output_type": "display_data",
          "data": {
            "image/png": "[encoded data removed]",
            "text/plain": [
              "<Figure size 432x288 with 1 Axes>"
            ]
          },
          "metadata": {
            "tags": [],
            "needs_background": "light"
          }
        }
      ]
    },
    {
      "cell_type": "markdown",
      "metadata": {
        "id": "4GSWzr69TYZO"
      },
      "source": [
        "## Impute the missing values for the numerical feature using Iterative Imputer from Sci-kit learn"
      ]
    },
    {
      "cell_type": "code",
      "metadata": {
        "id": "6rVa4g_YPqpw"
      },
      "source": [
        "impute_it = IterativeImputer()"
      ],
      "execution_count": null,
      "outputs": []
    },
    {
      "cell_type": "code",
      "metadata": {
        "id": "mic5l-6nPqpx"
      },
      "source": [
        "numeric_features= impute_it.fit_transform(numeric_features)\n",
        "numeric_features= pd.DataFrame(numeric_features)\n",
        "numeric_features.columns= data.select_dtypes(include= ['int64', 'float64']).columns.tolist()"
      ],
      "execution_count": null,
      "outputs": []
    },
    {
      "cell_type": "code",
      "metadata": {
        "id": "tE199nWtPqpy"
      },
      "source": [
        "data[numeric_features.columns]= numeric_features"
      ],
      "execution_count": null,
      "outputs": []
    },
    {
      "cell_type": "code",
      "metadata": {
        "id": "FG4oN-mbPqpy",
        "outputId": "61fa5a8f-798a-45b2-c815-0b4f47319b06"
      },
      "source": [
        "data.purpose.isna().sum()"
      ],
      "execution_count": null,
      "outputs": [
        {
          "output_type": "execute_result",
          "data": {
            "text/plain": [
              "0"
            ]
          },
          "metadata": {
            "tags": []
          },
          "execution_count": 16
        }
      ]
    },
    {
      "cell_type": "markdown",
      "metadata": {
        "id": "5Gk65KM8TsXg"
      },
      "source": [
        "## Dividing data into predictor variables (X) and target variable (y)"
      ]
    },
    {
      "cell_type": "code",
      "metadata": {
        "id": "6RtXcABIPqpz",
        "outputId": "df8f8d5a-44b6-4d1a-ffd2-eaa42b3454fe"
      },
      "source": [
        "X= data.drop('good_bad', axis=1)\n",
        "X.shape"
      ],
      "execution_count": null,
      "outputs": [
        {
          "output_type": "execute_result",
          "data": {
            "text/plain": [
              "(1000, 19)"
            ]
          },
          "metadata": {
            "tags": []
          },
          "execution_count": 17
        }
      ]
    },
    {
      "cell_type": "code",
      "metadata": {
        "id": "wQM-1494Pqpz",
        "outputId": "c9613425-d17b-4710-9d35-e6e2718a6909"
      },
      "source": [
        "y= data['good_bad']\n",
        "y.shape"
      ],
      "execution_count": null,
      "outputs": [
        {
          "output_type": "execute_result",
          "data": {
            "text/plain": [
              "(1000,)"
            ]
          },
          "metadata": {
            "tags": []
          },
          "execution_count": 18
        }
      ]
    },
    {
      "cell_type": "markdown",
      "metadata": {
        "id": "0mH2PrwvV9cJ"
      },
      "source": [
        "## Dividing dataset into train and test "
      ]
    },
    {
      "cell_type": "code",
      "metadata": {
        "id": "l_sZ6fRsPqp0"
      },
      "source": [
        "\n",
        "X_train, X_test, y_train, y_test = train_test_split(X, y, test_size=0.20)"
      ],
      "execution_count": null,
      "outputs": []
    },
    {
      "cell_type": "code",
      "metadata": {
        "id": "0RcDlDotPqp1",
        "outputId": "34916cfa-ecd8-4aa1-c731-d88d90211b19"
      },
      "source": [
        "X_train.shape, X_test.shape"
      ],
      "execution_count": null,
      "outputs": [
        {
          "output_type": "execute_result",
          "data": {
            "text/plain": [
              "((800, 19), (200, 19))"
            ]
          },
          "metadata": {
            "tags": []
          },
          "execution_count": 20
        }
      ]
    },
    {
      "cell_type": "markdown",
      "metadata": {
        "id": "Ztt9CPhVWQru"
      },
      "source": [
        "## Building a decision tree classifier"
      ]
    },
    {
      "cell_type": "code",
      "metadata": {
        "id": "MIPQhjppPqp2"
      },
      "source": [
        "classifier = DecisionTreeClassifier()\n",
        "classifier.fit(X_train, y_train)"
      ],
      "execution_count": null,
      "outputs": []
    },
    {
      "cell_type": "markdown",
      "metadata": {
        "id": "l4EHiqPoWdtG"
      },
      "source": [
        "## Barplot to visualize the importance of features"
      ]
    },
    {
      "cell_type": "code",
      "metadata": {
        "id": "bqjY-egoPqp3"
      },
      "source": [
        "cols= X.columns.tolist()\n",
        "importance_df = classifier.feature_importances_\n",
        "importance_df= pd.DataFrame(importance_df*100)\n",
        "importance_df.index= cols\n",
        "importance_df.columns= ['Importance']\n",
        "importance_df= importance_df.sort_values('Importance', ascending= False)"
      ],
      "execution_count": null,
      "outputs": []
    },
    {
      "cell_type": "code",
      "metadata": {
        "id": "xSDcXGSxPqp3",
        "outputId": "9cece2cc-fe82-4019-9e76-194d4fd785c7"
      },
      "source": [
        "importance_df['Importance'].plot.bar( rot=90, color=\"blue\", width=0.3)"
      ],
      "execution_count": null,
      "outputs": [
        {
          "output_type": "execute_result",
          "data": {
            "text/plain": [
              "<matplotlib.axes._subplots.AxesSubplot at 0x1ea7a764780>"
            ]
          },
          "metadata": {
            "tags": []
          },
          "execution_count": 24
        },
        {
          "output_type": "display_data",
          "data": {
            "image/png": "[encoded data removed]",
            "text/plain": [
              "<Figure size 432x288 with 1 Axes>"
            ]
          },
          "metadata": {
            "tags": [],
            "needs_background": "light"
          }
        }
      ]
    },
    {
      "cell_type": "markdown",
      "metadata": {
        "id": "4XX--quTWovP"
      },
      "source": [
        "## Making the predictions"
      ]
    },
    {
      "cell_type": "code",
      "metadata": {
        "id": "Jp_neYD4Pqp4"
      },
      "source": [
        "y_pred = classifier.predict(X_test)"
      ],
      "execution_count": null,
      "outputs": []
    },
    {
      "cell_type": "markdown",
      "metadata": {
        "id": "x68wHMllWyPV"
      },
      "source": [
        "## Classification Report"
      ]
    },
    {
      "cell_type": "code",
      "metadata": {
        "id": "AwwdlB_PPqp4",
        "outputId": "afbdc210-3a45-4eb8-ffd5-77b5888d83d4"
      },
      "source": [
        "print(classification_report(y_test, y_pred))"
      ],
      "execution_count": null,
      "outputs": [
        {
          "output_type": "stream",
          "text": [
            "              precision    recall  f1-score   support\n",
            "\n",
            "         bad       0.47      0.44      0.46        61\n",
            "        good       0.76      0.78      0.77       139\n",
            "\n",
            "    accuracy                           0.68       200\n",
            "   macro avg       0.62      0.61      0.62       200\n",
            "weighted avg       0.67      0.68      0.68       200\n",
            "\n"
          ],
          "name": "stdout"
        }
      ]
    },
    {
      "cell_type": "markdown",
      "metadata": {
        "id": "K-ksFqfHW3yv"
      },
      "source": [
        "## Confusion Matrix"
      ]
    },
    {
      "cell_type": "code",
      "metadata": {
        "id": "3qimA8THPqp5",
        "outputId": "94548152-c668-4843-a53d-fab9a3eaf6b4"
      },
      "source": [
        "plot_confusion_matrix(classifier, X_test, y_test, values_format='d', \n",
        "                      display_labels=['bad', 'good'])"
      ],
      "execution_count": null,
      "outputs": [
        {
          "output_type": "execute_result",
          "data": {
            "text/plain": [
              "<sklearn.metrics._plot.confusion_matrix.ConfusionMatrixDisplay at 0x1ea7a7ad748>"
            ]
          },
          "metadata": {
            "tags": []
          },
          "execution_count": 27
        },
        {
          "output_type": "display_data",
          "data": {
            "image/png": "[encoded data removed]",
            "text/plain": [
              "<Figure size 432x288 with 2 Axes>"
            ]
          },
          "metadata": {
            "tags": [],
            "needs_background": "light"
          }
        }
      ]
    },
    {
      "cell_type": "markdown",
      "metadata": {
        "id": "HT7y8K7xXHsQ"
      },
      "source": [
        "## Creating list of hyper-parameters\r\n",
        "\r\n"
      ]
    },
    {
      "cell_type": "code",
      "metadata": {
        "id": "2YaX6RFLPqp8"
      },
      "source": [
        "criterion = ['gini', 'entropy']\n",
        "splitter= ['best', 'random']\n",
        "max_features= [5,10,13,16]\n",
        "min_samples_leaf= [50,200,400,600]\n",
        "max_depth = [2,4,6,8,10]"
      ],
      "execution_count": null,
      "outputs": []
    },
    {
      "cell_type": "markdown",
      "metadata": {
        "id": "-KKaGHGNXP4n"
      },
      "source": [
        "## Building a pipeline"
      ]
    },
    {
      "cell_type": "code",
      "metadata": {
        "id": "qQoT3taePqp8"
      },
      "source": [
        "pipe = Pipeline(steps=[\n",
        "    ('dec_tree', classifier)\n",
        "])\n",
        "\n",
        "parameters = dict(dec_tree__criterion =criterion,\n",
        "                  dec_tree__splitter = splitter,\n",
        "                  dec_tree__max_depth = max_depth,\n",
        "                 dec_tree__max_features = max_features,\n",
        "                 dec_tree__min_samples_leaf = min_samples_leaf\n",
        "                 )"
      ],
      "execution_count": null,
      "outputs": []
    },
    {
      "cell_type": "markdown",
      "metadata": {
        "id": "oOgG2ZbQXWpD"
      },
      "source": [
        "## Performing Grid Search for hyperparameter tuning"
      ]
    },
    {
      "cell_type": "code",
      "metadata": {
        "id": "zl3_Rl60Pqp8"
      },
      "source": [
        "classifier_grid_search = GridSearchCV(pipe, parameters, cv=5,n_jobs=-1)"
      ],
      "execution_count": null,
      "outputs": []
    },
    {
      "cell_type": "code",
      "metadata": {
        "id": "5-SRJqEZPqp9"
      },
      "source": [
        "classifier_grid_search.fit(X, y)"
      ],
      "execution_count": null,
      "outputs": []
    },
    {
      "cell_type": "markdown",
      "metadata": {
        "id": "17AJ31AUX-Y5"
      },
      "source": [
        "## Viewing the best hyperparameters"
      ]
    },
    {
      "cell_type": "code",
      "metadata": {
        "id": "o60PkvXdPqp9",
        "outputId": "50a87428-a920-49f3-eaf5-95cece3863bb"
      },
      "source": [
        "print('Best Criterion:', classifier_grid_search.best_estimator_.get_params()['dec_tree__criterion'])\n",
        "print('Best SPLITTER:', classifier_grid_search.best_estimator_.get_params()['dec_tree__splitter'])\n",
        "print('Best max_features:', classifier_grid_search.best_estimator_.get_params()['dec_tree__max_features'])\n",
        "print('Best max_depth:', classifier_grid_search.best_estimator_.get_params()['dec_tree__max_depth'])\n",
        "print('Best min_samples_leaf:', classifier_grid_search.best_estimator_.get_params()['dec_tree__min_samples_leaf'])"
      ],
      "execution_count": null,
      "outputs": [
        {
          "output_type": "stream",
          "text": [
            "Best Criterion: entropy\n",
            "Best SPLITTER: random\n",
            "Best max_features: 16\n",
            "Best max_depth: 4\n",
            "Best min_samples_leaf: 50\n"
          ],
          "name": "stdout"
        }
      ]
    },
    {
      "cell_type": "markdown",
      "metadata": {
        "id": "XiiXLtpaYT-9"
      },
      "source": [
        "## Plotting the ROC curve"
      ]
    },
    {
      "cell_type": "code",
      "metadata": {
        "id": "EY8klRKiPqp9"
      },
      "source": [
        "y_test_2= y_test.map({'good':1, 'bad':0})"
      ],
      "execution_count": null,
      "outputs": []
    },
    {
      "cell_type": "code",
      "metadata": {
        "id": "Y0rI4WBjPqp-"
      },
      "source": [
        "predicted_prob = classifier_grid_search.predict_proba(X_test)\n",
        "predicted_prob= predicted_prob[:,1]\n",
        "false_pos_rate, true_pos_rate, threshold = roc_curve(y_test_2, predicted_prob)"
      ],
      "execution_count": null,
      "outputs": []
    },
    {
      "cell_type": "code",
      "metadata": {
        "id": "6MT1Kqb1Pqp-",
        "outputId": "c6829c6f-7d05-409a-bb6b-59d3a10e43d1"
      },
      "source": [
        "plt.plot(false_pos_rate, true_pos_rate, label='Decision Trees')\n",
        "plt.plot([0,1],[0,1], \"k--\", label='Random Guess')\n",
        "plt.xlabel(\"False Positive Rate\")\n",
        "plt.ylabel(\"True Positive Rate\")\n",
        "plt.legend(loc=\"best\")\n",
        "plt.title(\"ROC curve for Decision Trees\")"
      ],
      "execution_count": null,
      "outputs": [
        {
          "output_type": "execute_result",
          "data": {
            "text/plain": [
              "Text(0.5, 1.0, 'ROC curve for Decision Trees')"
            ]
          },
          "metadata": {
            "tags": []
          },
          "execution_count": 157
        },
        {
          "output_type": "display_data",
          "data": {
            "image/png": "[encoded data removed]",
            "text/plain": [
              "<Figure size 432x288 with 1 Axes>"
            ]
          },
          "metadata": {
            "tags": [],
            "needs_background": "light"
          }
        }
      ]
    },
    {
      "cell_type": "markdown",
      "metadata": {
        "id": "9-7uADVmYe0j"
      },
      "source": [
        "## Plotting the PR curve"
      ]
    },
    {
      "cell_type": "code",
      "metadata": {
        "id": "miQjEoz5Pqp_",
        "outputId": "a0345985-bae1-4bd1-d714-aab0dbd733c8"
      },
      "source": [
        "disp = plot_precision_recall_curve(classifier_grid_search, X_test, y_test)"
      ],
      "execution_count": null,
      "outputs": [
        {
          "output_type": "display_data",
          "data": {
            "image/png": "[encoded data removed]",
            "text/plain": [
              "<Figure size 432x288 with 1 Axes>"
            ]
          },
          "metadata": {
            "tags": [],
            "needs_background": "light"
          }
        }
      ]
    }
  ]
}