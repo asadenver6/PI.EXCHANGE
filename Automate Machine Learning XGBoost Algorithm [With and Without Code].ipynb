{
  "nbformat": 4,
  "nbformat_minor": 0,
  "metadata": {
    "kernelspec": {
      "display_name": "Python 3",
      "language": "python",
      "name": "python3"
    },
    "language_info": {
      "codemirror_mode": {
        "name": "ipython",
        "version": 3
      },
      "file_extension": ".py",
      "mimetype": "text/x-python",
      "name": "python",
      "nbconvert_exporter": "python",
      "pygments_lexer": "ipython3",
      "version": "3.6.8"
    },
    "colab": {
      "name": "Blog 5- Implement XG Boost With Code.ipynb",
      "provenance": []
    }
  },
  "cells": [
    {
      "cell_type": "markdown",
      "metadata": {
        "id": "EJ2HBIGN9AbX"
      },
      "source": [
        "## Import all the libraries that will be used"
      ]
    },
    {
      "cell_type": "code",
      "metadata": {
        "id": "RVZ9Hjoh8U2V"
      },
      "source": [
        "import numpy as np\r\n",
        "import pandas as pd\r\n",
        "from matplotlib import pyplot as plt\r\n",
        "from sklearn.metrics import classification_report, confusion_matrix\r\n",
        "from sklearn.metrics import plot_precision_recall_curve\r\n",
        "from sklearn.model_selection import train_test_split\r\n",
        "from sklearn.pipeline import Pipeline\r\n",
        "from sklearn.model_selection import GridSearchCV\r\n",
        "from sklearn.metrics import precision_recall_curve\r\n",
        "from sklearn.experimental import enable_iterative_imputer\r\n",
        "from sklearn.impute import IterativeImputer\r\n",
        "import xgboost as xgb\r\n",
        "from sklearn.metrics import plot_confusion_matrix\r\n",
        "from sklearn.metrics import roc_curve, auc"
      ],
      "execution_count": null,
      "outputs": []
    },
    {
      "cell_type": "markdown",
      "metadata": {
        "id": "zjAUbcQX9GEt"
      },
      "source": [
        "## Load the dataset"
      ]
    },
    {
      "cell_type": "code",
      "metadata": {
        "id": "sj7GOPMK8U2X",
        "outputId": "4e54f2fc-ef0b-4ad6-91b3-56ec1c5869e8"
      },
      "source": [
        "data= pd.read_csv('creditscoring.csv')\n",
        "data.head(3)"
      ],
      "execution_count": null,
      "outputs": [
        {
          "output_type": "execute_result",
          "data": {
            "text/html": [
              "<div>\n",
              "<style scoped>\n",
              "    .dataframe tbody tr th:only-of-type {\n",
              "        vertical-align: middle;\n",
              "    }\n",
              "\n",
              "    .dataframe tbody tr th {\n",
              "        vertical-align: top;\n",
              "    }\n",
              "\n",
              "    .dataframe thead th {\n",
              "        text-align: right;\n",
              "    }\n",
              "</style>\n",
              "<table border=\"1\" class=\"dataframe\">\n",
              "  <thead>\n",
              "    <tr style=\"text-align: right;\">\n",
              "      <th></th>\n",
              "      <th>duration</th>\n",
              "      <th>history</th>\n",
              "      <th>purpose</th>\n",
              "      <th>amount</th>\n",
              "      <th>savings</th>\n",
              "      <th>employed</th>\n",
              "      <th>installp</th>\n",
              "      <th>marital</th>\n",
              "      <th>coapp</th>\n",
              "      <th>resident</th>\n",
              "      <th>property</th>\n",
              "      <th>age</th>\n",
              "      <th>other</th>\n",
              "      <th>housing</th>\n",
              "      <th>existcr</th>\n",
              "      <th>job</th>\n",
              "      <th>depends</th>\n",
              "      <th>telephon</th>\n",
              "      <th>foreign</th>\n",
              "      <th>good_bad</th>\n",
              "    </tr>\n",
              "  </thead>\n",
              "  <tbody>\n",
              "    <tr>\n",
              "      <th>0</th>\n",
              "      <td>6</td>\n",
              "      <td>4</td>\n",
              "      <td>3.0</td>\n",
              "      <td>1169</td>\n",
              "      <td>5</td>\n",
              "      <td>5</td>\n",
              "      <td>4</td>\n",
              "      <td>3</td>\n",
              "      <td>1</td>\n",
              "      <td>4</td>\n",
              "      <td>1</td>\n",
              "      <td>67</td>\n",
              "      <td>3</td>\n",
              "      <td>2</td>\n",
              "      <td>2</td>\n",
              "      <td>3</td>\n",
              "      <td>1</td>\n",
              "      <td>2</td>\n",
              "      <td>1</td>\n",
              "      <td>good</td>\n",
              "    </tr>\n",
              "    <tr>\n",
              "      <th>1</th>\n",
              "      <td>48</td>\n",
              "      <td>2</td>\n",
              "      <td>3.0</td>\n",
              "      <td>5951</td>\n",
              "      <td>1</td>\n",
              "      <td>3</td>\n",
              "      <td>2</td>\n",
              "      <td>2</td>\n",
              "      <td>1</td>\n",
              "      <td>2</td>\n",
              "      <td>1</td>\n",
              "      <td>22</td>\n",
              "      <td>3</td>\n",
              "      <td>2</td>\n",
              "      <td>1</td>\n",
              "      <td>3</td>\n",
              "      <td>1</td>\n",
              "      <td>1</td>\n",
              "      <td>1</td>\n",
              "      <td>bad</td>\n",
              "    </tr>\n",
              "    <tr>\n",
              "      <th>2</th>\n",
              "      <td>12</td>\n",
              "      <td>4</td>\n",
              "      <td>6.0</td>\n",
              "      <td>2096</td>\n",
              "      <td>1</td>\n",
              "      <td>4</td>\n",
              "      <td>2</td>\n",
              "      <td>3</td>\n",
              "      <td>1</td>\n",
              "      <td>3</td>\n",
              "      <td>1</td>\n",
              "      <td>49</td>\n",
              "      <td>3</td>\n",
              "      <td>2</td>\n",
              "      <td>1</td>\n",
              "      <td>2</td>\n",
              "      <td>2</td>\n",
              "      <td>1</td>\n",
              "      <td>1</td>\n",
              "      <td>good</td>\n",
              "    </tr>\n",
              "  </tbody>\n",
              "</table>\n",
              "</div>"
            ],
            "text/plain": [
              "   duration  history  purpose  amount  savings  employed  installp  marital  \\\n",
              "0         6        4      3.0    1169        5         5         4        3   \n",
              "1        48        2      3.0    5951        1         3         2        2   \n",
              "2        12        4      6.0    2096        1         4         2        3   \n",
              "\n",
              "   coapp  resident  property  age  other  housing  existcr  job  depends  \\\n",
              "0      1         4         1   67      3        2        2    3        1   \n",
              "1      1         2         1   22      3        2        1    3        1   \n",
              "2      1         3         1   49      3        2        1    2        2   \n",
              "\n",
              "   telephon  foreign good_bad  \n",
              "0         2        1     good  \n",
              "1         1        1      bad  \n",
              "2         1        1     good  "
            ]
          },
          "metadata": {
            "tags": []
          },
          "execution_count": 2
        }
      ]
    },
    {
      "cell_type": "markdown",
      "metadata": {
        "id": "WoCwD98q9Kjx"
      },
      "source": [
        "## View the dimensions of the dataset"
      ]
    },
    {
      "cell_type": "code",
      "metadata": {
        "id": "RKPAAFOx8U2b",
        "outputId": "7227b639-4bc0-48bd-b2aa-d9c66c017f5b"
      },
      "source": [
        "data.shape"
      ],
      "execution_count": null,
      "outputs": [
        {
          "output_type": "execute_result",
          "data": {
            "text/plain": [
              "(1000, 20)"
            ]
          },
          "metadata": {
            "tags": []
          },
          "execution_count": 3
        }
      ]
    },
    {
      "cell_type": "markdown",
      "metadata": {
        "id": "D-s_c4xO98Ha"
      },
      "source": [
        "## Extracting the numerical features from the dataset"
      ]
    },
    {
      "cell_type": "code",
      "metadata": {
        "id": "g9rbULrR8U2c"
      },
      "source": [
        "numeric_features= data.select_dtypes(include= ['int64', 'float64'])"
      ],
      "execution_count": null,
      "outputs": []
    },
    {
      "cell_type": "markdown",
      "metadata": {
        "id": "MR_eA1QD-A3v"
      },
      "source": [
        "## Extracting the categorical features from the dataset"
      ]
    },
    {
      "cell_type": "code",
      "metadata": {
        "id": "EYQrwtuz8U2d"
      },
      "source": [
        "categorical_features= data.select_dtypes(include= ['object'])"
      ],
      "execution_count": null,
      "outputs": []
    },
    {
      "cell_type": "markdown",
      "metadata": {
        "id": "3fTdJAct-Glj"
      },
      "source": [
        "## Check if there are any missing values in the dataset"
      ]
    },
    {
      "cell_type": "code",
      "metadata": {
        "id": "RnJBFRZS8U2e",
        "outputId": "9db90b09-f261-451a-c8f3-d0af6c4440b1"
      },
      "source": [
        "for col in data:\n",
        "    missing_values= data[col].isna().sum()\n",
        "    if(missing_values>0):\n",
        "        print('{} {}'.format(col, missing_values))"
      ],
      "execution_count": null,
      "outputs": [
        {
          "output_type": "stream",
          "text": [
            "purpose 12\n"
          ],
          "name": "stdout"
        }
      ]
    },
    {
      "cell_type": "markdown",
      "metadata": {
        "id": "FRuLsXri-Ph8"
      },
      "source": [
        "## Check the number of samples for each category in the target variable"
      ]
    },
    {
      "cell_type": "code",
      "metadata": {
        "id": "0oHv40WS8U2f",
        "outputId": "8e77272f-bf16-411c-f4b6-05c1c7a8d9e4"
      },
      "source": [
        "data['good_bad'].value_counts()"
      ],
      "execution_count": null,
      "outputs": [
        {
          "output_type": "execute_result",
          "data": {
            "text/plain": [
              "good    700\n",
              "bad     300\n",
              "Name: good_bad, dtype: int64"
            ]
          },
          "metadata": {
            "tags": []
          },
          "execution_count": 11
        }
      ]
    },
    {
      "cell_type": "markdown",
      "metadata": {
        "id": "QLvOUlyr-m9F"
      },
      "source": [
        "## Barplot to visualize the number of samples for each category in the target variable"
      ]
    },
    {
      "cell_type": "code",
      "metadata": {
        "id": "GsCCmNu48U2f",
        "outputId": "1450e037-ba19-4645-e6a2-cc918b9bfea0"
      },
      "source": [
        "data['good_bad'].value_counts().plot.bar( rot=30, color=\"green\", width=0.5)"
      ],
      "execution_count": null,
      "outputs": [
        {
          "output_type": "execute_result",
          "data": {
            "text/plain": [
              "<matplotlib.axes._subplots.AxesSubplot at 0x17002622a20>"
            ]
          },
          "metadata": {
            "tags": []
          },
          "execution_count": 12
        },
        {
          "output_type": "display_data",
          "data": {
            "image/png": "[encoded data removed]",
            "text/plain": [
              "<Figure size 432x288 with 1 Axes>"
            ]
          },
          "metadata": {
            "tags": [],
            "needs_background": "light"
          }
        }
      ]
    },
    {
      "cell_type": "markdown",
      "metadata": {
        "id": "syfmzXDo-qOt"
      },
      "source": [
        "## Impute the missing values for the numerical feature using Iterative Imputer from Sci-kit learn"
      ]
    },
    {
      "cell_type": "code",
      "metadata": {
        "id": "9RX7Fumr8U2g"
      },
      "source": [
        "impute_it = IterativeImputer()\n",
        "numeric_features= impute_it.fit_transform(numeric_features)\n",
        "numeric_features= pd.DataFrame(numeric_features)\n",
        "numeric_features.columns= data.select_dtypes(include= ['int64', 'float64']).columns.tolist()"
      ],
      "execution_count": null,
      "outputs": []
    },
    {
      "cell_type": "code",
      "metadata": {
        "id": "4SyVYfmk8U2g"
      },
      "source": [
        "data[numeric_features.columns]= numeric_features"
      ],
      "execution_count": null,
      "outputs": []
    },
    {
      "cell_type": "code",
      "metadata": {
        "id": "WQ4TxMcx8U2g",
        "outputId": "59cf4d2f-7d4f-4344-98ee-d526fa93dc48"
      },
      "source": [
        "data.purpose.isna().sum()"
      ],
      "execution_count": null,
      "outputs": [
        {
          "output_type": "execute_result",
          "data": {
            "text/plain": [
              "0"
            ]
          },
          "metadata": {
            "tags": []
          },
          "execution_count": 11
        }
      ]
    },
    {
      "cell_type": "markdown",
      "metadata": {
        "id": "pytc4TBy-yKI"
      },
      "source": [
        "## Dividing data into predictor variables (X) and target variable (y)"
      ]
    },
    {
      "cell_type": "code",
      "metadata": {
        "id": "E2tIrXlI8U2h",
        "outputId": "25825e80-2c1a-4b0d-a674-67f39f577c5f"
      },
      "source": [
        "X= data.drop('good_bad', axis=1)\n",
        "print(X.shape)\n",
        "\n",
        "y= data['good_bad']\n",
        "print(y.shape)\n",
        "\n",
        "# Label Encode the categories in target variable\n",
        "y=y.map({'bad':0, 'good':1})"
      ],
      "execution_count": null,
      "outputs": [
        {
          "output_type": "stream",
          "text": [
            "(1000, 19)\n",
            "(1000,)\n"
          ],
          "name": "stdout"
        }
      ]
    },
    {
      "cell_type": "markdown",
      "metadata": {
        "id": "MrjfNNNN-_RB"
      },
      "source": [
        "## Dividing dataset into train and test"
      ]
    },
    {
      "cell_type": "code",
      "metadata": {
        "id": "ElbHZRvD8U2h"
      },
      "source": [
        "X_train,X_test,y_train,y_test = train_test_split(X, y, test_size=0.20,random_state=0, stratify= y)"
      ],
      "execution_count": null,
      "outputs": []
    },
    {
      "cell_type": "code",
      "metadata": {
        "id": "QeR0XZps8U2h",
        "outputId": "9270bdc0-6837-4059-9b73-f71ee2d80231"
      },
      "source": [
        "X_train.shape, X_test.shape"
      ],
      "execution_count": null,
      "outputs": [
        {
          "output_type": "execute_result",
          "data": {
            "text/plain": [
              "((800, 19), (200, 19))"
            ]
          },
          "metadata": {
            "tags": []
          },
          "execution_count": 14
        }
      ]
    },
    {
      "cell_type": "markdown",
      "metadata": {
        "id": "GLU-gjbi_GiV"
      },
      "source": [
        "## Fit a XGBoost classifier"
      ]
    },
    {
      "cell_type": "code",
      "metadata": {
        "id": "DujElI0H8U2i"
      },
      "source": [
        "clf_xgb= xgb.XGBClassifier(objective='binary:logistic', missing=None, seed=42)"
      ],
      "execution_count": null,
      "outputs": []
    },
    {
      "cell_type": "code",
      "metadata": {
        "id": "QjJmWapY8U2i",
        "outputId": "c49c8274-4af4-4022-8f14-d329a9bebe43"
      },
      "source": [
        "clf_xgb.fit(X_train,y_train)"
      ],
      "execution_count": null,
      "outputs": [
        {
          "output_type": "execute_result",
          "data": {
            "text/plain": [
              "XGBClassifier(base_score=0.5, booster='gbtree', colsample_bylevel=1,\n",
              "              colsample_bynode=1, colsample_bytree=1, gamma=0, gpu_id=-1,\n",
              "              importance_type='gain', interaction_constraints='',\n",
              "              learning_rate=0.300000012, max_delta_step=0, max_depth=6,\n",
              "              min_child_weight=1, missing=None, monotone_constraints='()',\n",
              "              n_estimators=100, n_jobs=0, num_parallel_tree=1,\n",
              "              objective='binary:logistic', random_state=42, reg_alpha=0,\n",
              "              reg_lambda=1, scale_pos_weight=1, seed=42, subsample=1,\n",
              "              tree_method='exact', validate_parameters=1, verbosity=None)"
            ]
          },
          "metadata": {
            "tags": []
          },
          "execution_count": 16
        }
      ]
    },
    {
      "cell_type": "markdown",
      "metadata": {
        "id": "zlbq3qhg_RWx"
      },
      "source": [
        "## Barplot to visualize the importance of features"
      ]
    },
    {
      "cell_type": "code",
      "metadata": {
        "id": "Q-n6bkp_8U2i"
      },
      "source": [
        "cols= X.columns.tolist()\n",
        "importance_df = clf_xgb.feature_importances_\n",
        "importance_df= pd.DataFrame(importance_df*100)\n",
        "importance_df.index= cols\n",
        "importance_df.columns= ['Importance']\n",
        "importance_df= importance_df.sort_values('Importance', ascending= False)"
      ],
      "execution_count": null,
      "outputs": []
    },
    {
      "cell_type": "code",
      "metadata": {
        "id": "tvRVeC6E8U2j",
        "outputId": "b243d6ac-f112-4c13-ea41-5d82430ad8f2"
      },
      "source": [
        "importance_df['Importance'].plot.bar( rot=90, color=\"green\", width=0.5)"
      ],
      "execution_count": null,
      "outputs": [
        {
          "output_type": "execute_result",
          "data": {
            "text/plain": [
              "<matplotlib.axes._subplots.AxesSubplot at 0x17599b959e8>"
            ]
          },
          "metadata": {
            "tags": []
          },
          "execution_count": 18
        },
        {
          "output_type": "display_data",
          "data": {
            "image/png": "[encoded data removed]",
            "text/plain": [
              "<Figure size 432x288 with 1 Axes>"
            ]
          },
          "metadata": {
            "tags": [],
            "needs_background": "light"
          }
        }
      ]
    },
    {
      "cell_type": "markdown",
      "metadata": {
        "id": "KQjm6nUu_coW"
      },
      "source": [
        "## Making the predictions"
      ]
    },
    {
      "cell_type": "code",
      "metadata": {
        "id": "1V9FoTpb8U2j"
      },
      "source": [
        "y_pred = clf_xgb.predict(X_test)"
      ],
      "execution_count": null,
      "outputs": []
    },
    {
      "cell_type": "markdown",
      "metadata": {
        "id": "wsfdDgPvBJGU"
      },
      "source": [
        "## Classification Report"
      ]
    },
    {
      "cell_type": "code",
      "metadata": {
        "id": "Q_1wTYzQ8U2j",
        "outputId": "ae31ce13-a734-4bd3-d88b-05088d60d6bc"
      },
      "source": [
        "print(classification_report(y_test, y_pred))"
      ],
      "execution_count": null,
      "outputs": [
        {
          "output_type": "stream",
          "text": [
            "              precision    recall  f1-score   support\n",
            "\n",
            "           0       0.59      0.50      0.54        60\n",
            "           1       0.80      0.85      0.82       140\n",
            "\n",
            "    accuracy                           0.74       200\n",
            "   macro avg       0.69      0.68      0.68       200\n",
            "weighted avg       0.74      0.74      0.74       200\n",
            "\n"
          ],
          "name": "stdout"
        }
      ]
    },
    {
      "cell_type": "markdown",
      "metadata": {
        "id": "ZpNILjYABLrj"
      },
      "source": [
        "## Confusion Matrix"
      ]
    },
    {
      "cell_type": "code",
      "metadata": {
        "id": "bjH3Ymfv8U2k",
        "outputId": "7fec20b9-632d-4141-afd8-21946314573c"
      },
      "source": [
        "plot_confusion_matrix(clf_xgb, X_test, y_test, \n",
        "values_format='d', display_labels=['bad', 'good'])"
      ],
      "execution_count": null,
      "outputs": [
        {
          "output_type": "execute_result",
          "data": {
            "text/plain": [
              "<sklearn.metrics._plot.confusion_matrix.ConfusionMatrixDisplay at 0x17599c49438>"
            ]
          },
          "metadata": {
            "tags": []
          },
          "execution_count": 21
        },
        {
          "output_type": "display_data",
          "data": {
            "image/png": "[encoded data removed]",
            "text/plain": [
              "<Figure size 432x288 with 2 Axes>"
            ]
          },
          "metadata": {
            "tags": [],
            "needs_background": "light"
          }
        }
      ]
    },
    {
      "cell_type": "markdown",
      "metadata": {
        "id": "q_d8UQJ4BXuy"
      },
      "source": [
        "## Building a pipeline for hyperparameter tuning"
      ]
    },
    {
      "cell_type": "code",
      "metadata": {
        "id": "zeBEqpYv8U2k"
      },
      "source": [
        "pipeline_XG_boost = Pipeline(steps=[\n",
        "    ('XGBoost', clf_xgb)\n",
        "])\n",
        "\n",
        "param_grid_XG_boost= {\n",
        "    'XGBoost__max_depth': [3,4,5],\n",
        "    'XGBoost__learning_rate':[0.1,0.01,0.05],\n",
        "    'XGBoost__gamma':[0, 0.25, 1],\n",
        "    'XGBoost__reg_lambda':[0,1.0,10.0],\n",
        "    'XGBoost__scale_pos_weight':[1,3,5]\n",
        "}"
      ],
      "execution_count": null,
      "outputs": []
    },
    {
      "cell_type": "markdown",
      "metadata": {
        "id": "rFKGycQeBhcP"
      },
      "source": [
        "## Performing Grid Search for hyperparameter tuning"
      ]
    },
    {
      "cell_type": "code",
      "metadata": {
        "id": "7k06PfJZ8U2l"
      },
      "source": [
        "classifier_grid_search = GridSearchCV(pipeline_XG_boost, \n",
        "                        param_grid_XG_boost, cv=5,n_jobs=-1)"
      ],
      "execution_count": null,
      "outputs": []
    },
    {
      "cell_type": "code",
      "metadata": {
        "id": "NbALXt7E8U2l"
      },
      "source": [
        "classifier_grid_search.fit(X, y)"
      ],
      "execution_count": null,
      "outputs": []
    },
    {
      "cell_type": "markdown",
      "metadata": {
        "id": "_8xfeFKpBmCP"
      },
      "source": [
        "## Viewing the best hyperparameters"
      ]
    },
    {
      "cell_type": "code",
      "metadata": {
        "id": "0PluxBEQ8U2m",
        "outputId": "cd683aa6-5c97-4d24-9738-a42a1dafa67c"
      },
      "source": [
        "print('Best max_depth:', classifier_grid_search.best_estimator_.get_params()['XGBoost__max_depth'])\n",
        "print('Best learning_rate:', classifier_grid_search.best_estimator_.get_params()['XGBoost__learning_rate'])\n",
        "print('Best gamma:', classifier_grid_search.best_estimator_.get_params()['XGBoost__gamma'])\n",
        "print('Best reg_lambda:', classifier_grid_search.best_estimator_.get_params()['XGBoost__reg_lambda'])\n",
        "print('Best scale_pos_weight:', classifier_grid_search.best_estimator_.get_params()['XGBoost__scale_pos_weight'])"
      ],
      "execution_count": null,
      "outputs": [
        {
          "output_type": "stream",
          "text": [
            "Best max_depth: 4\n",
            "Best learning_rate: 0.1\n",
            "Best gamma: 1\n",
            "Best reg_lambda: 0\n",
            "Best scale_pos_weight: 3\n"
          ],
          "name": "stdout"
        }
      ]
    },
    {
      "cell_type": "markdown",
      "metadata": {
        "id": "B-iLLExmBs5d"
      },
      "source": [
        "## Plotting the ROC curve"
      ]
    },
    {
      "cell_type": "code",
      "metadata": {
        "id": "qrfEEQKa8U2m"
      },
      "source": [
        "predicted_prob = classifier_grid_search.predict_proba(X_test)\n",
        "predicted_prob= predicted_prob[:,1]\n",
        "false_pos_rate, true_pos_rate, threshold = roc_curve(y_test, predicted_prob)"
      ],
      "execution_count": null,
      "outputs": []
    },
    {
      "cell_type": "code",
      "metadata": {
        "id": "weRoFqMx8U2m",
        "outputId": "cb6e7306-7911-47c2-fb07-eeb208f61106"
      },
      "source": [
        "plt.plot(false_pos_rate, true_pos_rate, label='XG Boost')\n",
        "plt.plot([0,1],[0,1], \"k--\", label='Random Guess')\n",
        "plt.xlabel(\"False Positive Rate\")\n",
        "plt.ylabel(\"True Positive Rate\")\n",
        "plt.legend(loc=\"best\")\n",
        "plt.title(\"ROC curve for XG Boost\")"
      ],
      "execution_count": null,
      "outputs": [
        {
          "output_type": "execute_result",
          "data": {
            "text/plain": [
              "Text(0.5, 1.0, 'ROC curve for XG Boost')"
            ]
          },
          "metadata": {
            "tags": []
          },
          "execution_count": 27
        },
        {
          "output_type": "display_data",
          "data": {
            "image/png": "[encoded data removed]",
            "text/plain": [
              "<Figure size 432x288 with 1 Axes>"
            ]
          },
          "metadata": {
            "tags": [],
            "needs_background": "light"
          }
        }
      ]
    },
    {
      "cell_type": "markdown",
      "metadata": {
        "id": "yc2SLLOpCGy_"
      },
      "source": [
        "## Plotting the PR curve"
      ]
    },
    {
      "cell_type": "code",
      "metadata": {
        "id": "ENXREAxM8U2n",
        "outputId": "0f6d4010-3cc4-4cc8-e1f9-704287ca39b3"
      },
      "source": [
        "disp = plot_precision_recall_curve(classifier_grid_search, X_test, y_test)"
      ],
      "execution_count": null,
      "outputs": [
        {
          "output_type": "display_data",
          "data": {
            "image/png": "[encoded data removed]",
            "text/plain": [
              "<Figure size 432x288 with 1 Axes>"
            ]
          },
          "metadata": {
            "tags": [],
            "needs_background": "light"
          }
        }
      ]
    }
  ]
}