{
 "cells": [
  {
   "cell_type": "markdown",
   "id": "professional-department",
   "metadata": {},
   "source": [
    "### Importing the Required libraries"
   ]
  },
  {
   "cell_type": "code",
   "execution_count": 75,
   "id": "ethical-diana",
   "metadata": {},
   "outputs": [],
   "source": [
    "import numpy as np\n",
    "import pandas as pd\n",
    "from sklearn import svm\n",
    "from matplotlib import pyplot as plt\n",
    "from sklearn.metrics import classification_report, confusion_matrix\n",
    "from sklearn.metrics import plot_precision_recall_curve\n",
    "from sklearn.model_selection import train_test_split\n",
    "from sklearn.pipeline import Pipeline\n",
    "from sklearn.model_selection import GridSearchCV\n",
    "from sklearn.metrics import precision_recall_curve\n",
    "from sklearn.metrics import plot_confusion_matrix\n",
    "from sklearn.metrics import roc_curve, auc\n",
    "from sklearn import metrics\n",
    "from sklearn import preprocessing"
   ]
  },
  {
   "cell_type": "markdown",
   "id": "prepared-salem",
   "metadata": {},
   "source": [
    "### Load the dataset"
   ]
  },
  {
   "cell_type": "code",
   "execution_count": 76,
   "id": "subjective-virgin",
   "metadata": {},
   "outputs": [],
   "source": [
    "data= pd.read_csv('creditscoring.csv')"
   ]
  },
  {
   "cell_type": "code",
   "execution_count": 77,
   "id": "yellow-gothic",
   "metadata": {},
   "outputs": [
    {
     "data": {
      "text/html": [
       "<div>\n",
       "<style scoped>\n",
       "    .dataframe tbody tr th:only-of-type {\n",
       "        vertical-align: middle;\n",
       "    }\n",
       "\n",
       "    .dataframe tbody tr th {\n",
       "        vertical-align: top;\n",
       "    }\n",
       "\n",
       "    .dataframe thead th {\n",
       "        text-align: right;\n",
       "    }\n",
       "</style>\n",
       "<table border=\"1\" class=\"dataframe\">\n",
       "  <thead>\n",
       "    <tr style=\"text-align: right;\">\n",
       "      <th></th>\n",
       "      <th>duration</th>\n",
       "      <th>history</th>\n",
       "      <th>purpose</th>\n",
       "      <th>amount</th>\n",
       "      <th>savings</th>\n",
       "      <th>employed</th>\n",
       "      <th>installp</th>\n",
       "      <th>marital</th>\n",
       "      <th>coapp</th>\n",
       "      <th>resident</th>\n",
       "      <th>property</th>\n",
       "      <th>age</th>\n",
       "      <th>other</th>\n",
       "      <th>housing</th>\n",
       "      <th>existcr</th>\n",
       "      <th>job</th>\n",
       "      <th>depends</th>\n",
       "      <th>telephon</th>\n",
       "      <th>foreign</th>\n",
       "      <th>good_bad</th>\n",
       "    </tr>\n",
       "  </thead>\n",
       "  <tbody>\n",
       "    <tr>\n",
       "      <th>0</th>\n",
       "      <td>6</td>\n",
       "      <td>4</td>\n",
       "      <td>3.0</td>\n",
       "      <td>1169</td>\n",
       "      <td>5</td>\n",
       "      <td>5</td>\n",
       "      <td>4</td>\n",
       "      <td>3</td>\n",
       "      <td>1</td>\n",
       "      <td>4</td>\n",
       "      <td>1</td>\n",
       "      <td>67</td>\n",
       "      <td>3</td>\n",
       "      <td>2</td>\n",
       "      <td>2</td>\n",
       "      <td>3</td>\n",
       "      <td>1</td>\n",
       "      <td>2</td>\n",
       "      <td>1</td>\n",
       "      <td>good</td>\n",
       "    </tr>\n",
       "    <tr>\n",
       "      <th>1</th>\n",
       "      <td>48</td>\n",
       "      <td>2</td>\n",
       "      <td>3.0</td>\n",
       "      <td>5951</td>\n",
       "      <td>1</td>\n",
       "      <td>3</td>\n",
       "      <td>2</td>\n",
       "      <td>2</td>\n",
       "      <td>1</td>\n",
       "      <td>2</td>\n",
       "      <td>1</td>\n",
       "      <td>22</td>\n",
       "      <td>3</td>\n",
       "      <td>2</td>\n",
       "      <td>1</td>\n",
       "      <td>3</td>\n",
       "      <td>1</td>\n",
       "      <td>1</td>\n",
       "      <td>1</td>\n",
       "      <td>bad</td>\n",
       "    </tr>\n",
       "  </tbody>\n",
       "</table>\n",
       "</div>"
      ],
      "text/plain": [
       "   duration  history  purpose  amount  savings  employed  installp  marital  \\\n",
       "0         6        4      3.0    1169        5         5         4        3   \n",
       "1        48        2      3.0    5951        1         3         2        2   \n",
       "\n",
       "   coapp  resident  property  age  other  housing  existcr  job  depends  \\\n",
       "0      1         4         1   67      3        2        2    3        1   \n",
       "1      1         2         1   22      3        2        1    3        1   \n",
       "\n",
       "   telephon  foreign good_bad  \n",
       "0         2        1     good  \n",
       "1         1        1      bad  "
      ]
     },
     "execution_count": 77,
     "metadata": {},
     "output_type": "execute_result"
    }
   ],
   "source": [
    "data.head(2)"
   ]
  },
  {
   "cell_type": "markdown",
   "id": "stone-struggle",
   "metadata": {},
   "source": [
    "### Drop columns with missing values"
   ]
  },
  {
   "cell_type": "code",
   "execution_count": 78,
   "id": "scheduled-chest",
   "metadata": {},
   "outputs": [
    {
     "name": "stdout",
     "output_type": "stream",
     "text": [
      "purpose 12\n"
     ]
    }
   ],
   "source": [
    "for col in data:\n",
    "    missing_values= data[col].isna().sum()\n",
    "    if(missing_values>0):\n",
    "        print('{} {}'.format(col, missing_values))"
   ]
  },
  {
   "cell_type": "code",
   "execution_count": 79,
   "id": "dedicated-julian",
   "metadata": {},
   "outputs": [],
   "source": [
    "data= data.drop('purpose',axis=1)"
   ]
  },
  {
   "cell_type": "markdown",
   "id": "mature-perth",
   "metadata": {},
   "source": [
    "### Dividing data into predictor variables (X) and target variable (y)"
   ]
  },
  {
   "cell_type": "code",
   "execution_count": 80,
   "id": "animal-participant",
   "metadata": {},
   "outputs": [
    {
     "name": "stdout",
     "output_type": "stream",
     "text": [
      "(1000, 18)\n",
      "(1000,)\n"
     ]
    }
   ],
   "source": [
    "X= data.drop('good_bad', axis=1)\n",
    "y= data['good_bad']\n",
    "\n",
    "print(X.shape)\n",
    "print(y.shape)"
   ]
  },
  {
   "cell_type": "markdown",
   "id": "sunrise-effectiveness",
   "metadata": {},
   "source": [
    "### Extract numeric features and standardize them"
   ]
  },
  {
   "cell_type": "code",
   "execution_count": 81,
   "id": "cordless-significance",
   "metadata": {},
   "outputs": [],
   "source": [
    "numerical_features = X[['duration', 'amount', 'age']]\n",
    "names_numerical = numerical_features.columns.tolist()\n",
    "min_max_scaler = preprocessing.MinMaxScaler()\n",
    "numerical_features = min_max_scaler.fit_transform(numerical_features)\n",
    "numerical_features = pd.DataFrame(numerical_features)\n",
    "numerical_features.columns = names_numerical"
   ]
  },
  {
   "cell_type": "code",
   "execution_count": 82,
   "id": "metropolitan-business",
   "metadata": {},
   "outputs": [
    {
     "data": {
      "text/html": [
       "<div>\n",
       "<style scoped>\n",
       "    .dataframe tbody tr th:only-of-type {\n",
       "        vertical-align: middle;\n",
       "    }\n",
       "\n",
       "    .dataframe tbody tr th {\n",
       "        vertical-align: top;\n",
       "    }\n",
       "\n",
       "    .dataframe thead th {\n",
       "        text-align: right;\n",
       "    }\n",
       "</style>\n",
       "<table border=\"1\" class=\"dataframe\">\n",
       "  <thead>\n",
       "    <tr style=\"text-align: right;\">\n",
       "      <th></th>\n",
       "      <th>duration</th>\n",
       "      <th>amount</th>\n",
       "      <th>age</th>\n",
       "    </tr>\n",
       "  </thead>\n",
       "  <tbody>\n",
       "    <tr>\n",
       "      <th>0</th>\n",
       "      <td>0.029412</td>\n",
       "      <td>0.050567</td>\n",
       "      <td>0.857143</td>\n",
       "    </tr>\n",
       "    <tr>\n",
       "      <th>1</th>\n",
       "      <td>0.647059</td>\n",
       "      <td>0.313690</td>\n",
       "      <td>0.053571</td>\n",
       "    </tr>\n",
       "    <tr>\n",
       "      <th>2</th>\n",
       "      <td>0.117647</td>\n",
       "      <td>0.101574</td>\n",
       "      <td>0.535714</td>\n",
       "    </tr>\n",
       "    <tr>\n",
       "      <th>3</th>\n",
       "      <td>0.558824</td>\n",
       "      <td>0.419941</td>\n",
       "      <td>0.464286</td>\n",
       "    </tr>\n",
       "    <tr>\n",
       "      <th>4</th>\n",
       "      <td>0.294118</td>\n",
       "      <td>0.254209</td>\n",
       "      <td>0.607143</td>\n",
       "    </tr>\n",
       "    <tr>\n",
       "      <th>...</th>\n",
       "      <td>...</td>\n",
       "      <td>...</td>\n",
       "      <td>...</td>\n",
       "    </tr>\n",
       "    <tr>\n",
       "      <th>995</th>\n",
       "      <td>0.117647</td>\n",
       "      <td>0.081765</td>\n",
       "      <td>0.214286</td>\n",
       "    </tr>\n",
       "    <tr>\n",
       "      <th>996</th>\n",
       "      <td>0.382353</td>\n",
       "      <td>0.198470</td>\n",
       "      <td>0.375000</td>\n",
       "    </tr>\n",
       "    <tr>\n",
       "      <th>997</th>\n",
       "      <td>0.117647</td>\n",
       "      <td>0.030483</td>\n",
       "      <td>0.339286</td>\n",
       "    </tr>\n",
       "    <tr>\n",
       "      <th>998</th>\n",
       "      <td>0.602941</td>\n",
       "      <td>0.087763</td>\n",
       "      <td>0.071429</td>\n",
       "    </tr>\n",
       "    <tr>\n",
       "      <th>999</th>\n",
       "      <td>0.602941</td>\n",
       "      <td>0.238032</td>\n",
       "      <td>0.142857</td>\n",
       "    </tr>\n",
       "  </tbody>\n",
       "</table>\n",
       "<p>1000 rows × 3 columns</p>\n",
       "</div>"
      ],
      "text/plain": [
       "     duration    amount       age\n",
       "0    0.029412  0.050567  0.857143\n",
       "1    0.647059  0.313690  0.053571\n",
       "2    0.117647  0.101574  0.535714\n",
       "3    0.558824  0.419941  0.464286\n",
       "4    0.294118  0.254209  0.607143\n",
       "..        ...       ...       ...\n",
       "995  0.117647  0.081765  0.214286\n",
       "996  0.382353  0.198470  0.375000\n",
       "997  0.117647  0.030483  0.339286\n",
       "998  0.602941  0.087763  0.071429\n",
       "999  0.602941  0.238032  0.142857\n",
       "\n",
       "[1000 rows x 3 columns]"
      ]
     },
     "execution_count": 82,
     "metadata": {},
     "output_type": "execute_result"
    }
   ],
   "source": [
    "numerical_features"
   ]
  },
  {
   "cell_type": "markdown",
   "id": "instructional-isolation",
   "metadata": {},
   "source": [
    "### Extract Categorical Features and create dummy variables"
   ]
  },
  {
   "cell_type": "code",
   "execution_count": 83,
   "id": "skilled-survivor",
   "metadata": {},
   "outputs": [],
   "source": [
    "categorical_features = X.drop(['duration', 'amount', 'age'], axis=1)\n",
    "categorical_features = pd.get_dummies(categorical_features, columns=categorical_features.columns.tolist())"
   ]
  },
  {
   "cell_type": "markdown",
   "id": "explicit-alliance",
   "metadata": {},
   "source": [
    "### Concatenate the numerical and categorical features into a dataframe"
   ]
  },
  {
   "cell_type": "code",
   "execution_count": 84,
   "id": "caring-ideal",
   "metadata": {},
   "outputs": [],
   "source": [
    "X_scale= pd.concat([numerical_features, categorical_features], axis=1)"
   ]
  },
  {
   "cell_type": "code",
   "execution_count": 85,
   "id": "streaming-cuisine",
   "metadata": {},
   "outputs": [
    {
     "data": {
      "text/html": [
       "<div>\n",
       "<style scoped>\n",
       "    .dataframe tbody tr th:only-of-type {\n",
       "        vertical-align: middle;\n",
       "    }\n",
       "\n",
       "    .dataframe tbody tr th {\n",
       "        vertical-align: top;\n",
       "    }\n",
       "\n",
       "    .dataframe thead th {\n",
       "        text-align: right;\n",
       "    }\n",
       "</style>\n",
       "<table border=\"1\" class=\"dataframe\">\n",
       "  <thead>\n",
       "    <tr style=\"text-align: right;\">\n",
       "      <th></th>\n",
       "      <th>duration</th>\n",
       "      <th>amount</th>\n",
       "      <th>age</th>\n",
       "      <th>history_0</th>\n",
       "      <th>history_1</th>\n",
       "      <th>history_2</th>\n",
       "      <th>history_3</th>\n",
       "      <th>history_4</th>\n",
       "      <th>savings_1</th>\n",
       "      <th>savings_2</th>\n",
       "      <th>...</th>\n",
       "      <th>job_1</th>\n",
       "      <th>job_2</th>\n",
       "      <th>job_3</th>\n",
       "      <th>job_4</th>\n",
       "      <th>depends_1</th>\n",
       "      <th>depends_2</th>\n",
       "      <th>telephon_1</th>\n",
       "      <th>telephon_2</th>\n",
       "      <th>foreign_1</th>\n",
       "      <th>foreign_2</th>\n",
       "    </tr>\n",
       "  </thead>\n",
       "  <tbody>\n",
       "    <tr>\n",
       "      <th>0</th>\n",
       "      <td>0.029412</td>\n",
       "      <td>0.050567</td>\n",
       "      <td>0.857143</td>\n",
       "      <td>0</td>\n",
       "      <td>0</td>\n",
       "      <td>0</td>\n",
       "      <td>0</td>\n",
       "      <td>1</td>\n",
       "      <td>0</td>\n",
       "      <td>0</td>\n",
       "      <td>...</td>\n",
       "      <td>0</td>\n",
       "      <td>0</td>\n",
       "      <td>1</td>\n",
       "      <td>0</td>\n",
       "      <td>1</td>\n",
       "      <td>0</td>\n",
       "      <td>0</td>\n",
       "      <td>1</td>\n",
       "      <td>1</td>\n",
       "      <td>0</td>\n",
       "    </tr>\n",
       "    <tr>\n",
       "      <th>1</th>\n",
       "      <td>0.647059</td>\n",
       "      <td>0.313690</td>\n",
       "      <td>0.053571</td>\n",
       "      <td>0</td>\n",
       "      <td>0</td>\n",
       "      <td>1</td>\n",
       "      <td>0</td>\n",
       "      <td>0</td>\n",
       "      <td>1</td>\n",
       "      <td>0</td>\n",
       "      <td>...</td>\n",
       "      <td>0</td>\n",
       "      <td>0</td>\n",
       "      <td>1</td>\n",
       "      <td>0</td>\n",
       "      <td>1</td>\n",
       "      <td>0</td>\n",
       "      <td>1</td>\n",
       "      <td>0</td>\n",
       "      <td>1</td>\n",
       "      <td>0</td>\n",
       "    </tr>\n",
       "    <tr>\n",
       "      <th>2</th>\n",
       "      <td>0.117647</td>\n",
       "      <td>0.101574</td>\n",
       "      <td>0.535714</td>\n",
       "      <td>0</td>\n",
       "      <td>0</td>\n",
       "      <td>0</td>\n",
       "      <td>0</td>\n",
       "      <td>1</td>\n",
       "      <td>1</td>\n",
       "      <td>0</td>\n",
       "      <td>...</td>\n",
       "      <td>0</td>\n",
       "      <td>1</td>\n",
       "      <td>0</td>\n",
       "      <td>0</td>\n",
       "      <td>0</td>\n",
       "      <td>1</td>\n",
       "      <td>1</td>\n",
       "      <td>0</td>\n",
       "      <td>1</td>\n",
       "      <td>0</td>\n",
       "    </tr>\n",
       "    <tr>\n",
       "      <th>3</th>\n",
       "      <td>0.558824</td>\n",
       "      <td>0.419941</td>\n",
       "      <td>0.464286</td>\n",
       "      <td>0</td>\n",
       "      <td>0</td>\n",
       "      <td>1</td>\n",
       "      <td>0</td>\n",
       "      <td>0</td>\n",
       "      <td>1</td>\n",
       "      <td>0</td>\n",
       "      <td>...</td>\n",
       "      <td>0</td>\n",
       "      <td>0</td>\n",
       "      <td>1</td>\n",
       "      <td>0</td>\n",
       "      <td>0</td>\n",
       "      <td>1</td>\n",
       "      <td>1</td>\n",
       "      <td>0</td>\n",
       "      <td>1</td>\n",
       "      <td>0</td>\n",
       "    </tr>\n",
       "    <tr>\n",
       "      <th>4</th>\n",
       "      <td>0.294118</td>\n",
       "      <td>0.254209</td>\n",
       "      <td>0.607143</td>\n",
       "      <td>0</td>\n",
       "      <td>0</td>\n",
       "      <td>0</td>\n",
       "      <td>1</td>\n",
       "      <td>0</td>\n",
       "      <td>1</td>\n",
       "      <td>0</td>\n",
       "      <td>...</td>\n",
       "      <td>0</td>\n",
       "      <td>0</td>\n",
       "      <td>1</td>\n",
       "      <td>0</td>\n",
       "      <td>0</td>\n",
       "      <td>1</td>\n",
       "      <td>1</td>\n",
       "      <td>0</td>\n",
       "      <td>1</td>\n",
       "      <td>0</td>\n",
       "    </tr>\n",
       "    <tr>\n",
       "      <th>...</th>\n",
       "      <td>...</td>\n",
       "      <td>...</td>\n",
       "      <td>...</td>\n",
       "      <td>...</td>\n",
       "      <td>...</td>\n",
       "      <td>...</td>\n",
       "      <td>...</td>\n",
       "      <td>...</td>\n",
       "      <td>...</td>\n",
       "      <td>...</td>\n",
       "      <td>...</td>\n",
       "      <td>...</td>\n",
       "      <td>...</td>\n",
       "      <td>...</td>\n",
       "      <td>...</td>\n",
       "      <td>...</td>\n",
       "      <td>...</td>\n",
       "      <td>...</td>\n",
       "      <td>...</td>\n",
       "      <td>...</td>\n",
       "      <td>...</td>\n",
       "    </tr>\n",
       "    <tr>\n",
       "      <th>995</th>\n",
       "      <td>0.117647</td>\n",
       "      <td>0.081765</td>\n",
       "      <td>0.214286</td>\n",
       "      <td>0</td>\n",
       "      <td>0</td>\n",
       "      <td>1</td>\n",
       "      <td>0</td>\n",
       "      <td>0</td>\n",
       "      <td>1</td>\n",
       "      <td>0</td>\n",
       "      <td>...</td>\n",
       "      <td>0</td>\n",
       "      <td>1</td>\n",
       "      <td>0</td>\n",
       "      <td>0</td>\n",
       "      <td>1</td>\n",
       "      <td>0</td>\n",
       "      <td>1</td>\n",
       "      <td>0</td>\n",
       "      <td>1</td>\n",
       "      <td>0</td>\n",
       "    </tr>\n",
       "    <tr>\n",
       "      <th>996</th>\n",
       "      <td>0.382353</td>\n",
       "      <td>0.198470</td>\n",
       "      <td>0.375000</td>\n",
       "      <td>0</td>\n",
       "      <td>0</td>\n",
       "      <td>1</td>\n",
       "      <td>0</td>\n",
       "      <td>0</td>\n",
       "      <td>1</td>\n",
       "      <td>0</td>\n",
       "      <td>...</td>\n",
       "      <td>0</td>\n",
       "      <td>0</td>\n",
       "      <td>0</td>\n",
       "      <td>1</td>\n",
       "      <td>1</td>\n",
       "      <td>0</td>\n",
       "      <td>0</td>\n",
       "      <td>1</td>\n",
       "      <td>1</td>\n",
       "      <td>0</td>\n",
       "    </tr>\n",
       "    <tr>\n",
       "      <th>997</th>\n",
       "      <td>0.117647</td>\n",
       "      <td>0.030483</td>\n",
       "      <td>0.339286</td>\n",
       "      <td>0</td>\n",
       "      <td>0</td>\n",
       "      <td>1</td>\n",
       "      <td>0</td>\n",
       "      <td>0</td>\n",
       "      <td>1</td>\n",
       "      <td>0</td>\n",
       "      <td>...</td>\n",
       "      <td>0</td>\n",
       "      <td>0</td>\n",
       "      <td>1</td>\n",
       "      <td>0</td>\n",
       "      <td>1</td>\n",
       "      <td>0</td>\n",
       "      <td>1</td>\n",
       "      <td>0</td>\n",
       "      <td>1</td>\n",
       "      <td>0</td>\n",
       "    </tr>\n",
       "    <tr>\n",
       "      <th>998</th>\n",
       "      <td>0.602941</td>\n",
       "      <td>0.087763</td>\n",
       "      <td>0.071429</td>\n",
       "      <td>0</td>\n",
       "      <td>0</td>\n",
       "      <td>1</td>\n",
       "      <td>0</td>\n",
       "      <td>0</td>\n",
       "      <td>1</td>\n",
       "      <td>0</td>\n",
       "      <td>...</td>\n",
       "      <td>0</td>\n",
       "      <td>0</td>\n",
       "      <td>1</td>\n",
       "      <td>0</td>\n",
       "      <td>1</td>\n",
       "      <td>0</td>\n",
       "      <td>0</td>\n",
       "      <td>1</td>\n",
       "      <td>1</td>\n",
       "      <td>0</td>\n",
       "    </tr>\n",
       "    <tr>\n",
       "      <th>999</th>\n",
       "      <td>0.602941</td>\n",
       "      <td>0.238032</td>\n",
       "      <td>0.142857</td>\n",
       "      <td>0</td>\n",
       "      <td>0</td>\n",
       "      <td>0</td>\n",
       "      <td>0</td>\n",
       "      <td>1</td>\n",
       "      <td>0</td>\n",
       "      <td>1</td>\n",
       "      <td>...</td>\n",
       "      <td>0</td>\n",
       "      <td>0</td>\n",
       "      <td>1</td>\n",
       "      <td>0</td>\n",
       "      <td>1</td>\n",
       "      <td>0</td>\n",
       "      <td>1</td>\n",
       "      <td>0</td>\n",
       "      <td>1</td>\n",
       "      <td>0</td>\n",
       "    </tr>\n",
       "  </tbody>\n",
       "</table>\n",
       "<p>1000 rows × 57 columns</p>\n",
       "</div>"
      ],
      "text/plain": [
       "     duration    amount       age  history_0  history_1  history_2  history_3  \\\n",
       "0    0.029412  0.050567  0.857143          0          0          0          0   \n",
       "1    0.647059  0.313690  0.053571          0          0          1          0   \n",
       "2    0.117647  0.101574  0.535714          0          0          0          0   \n",
       "3    0.558824  0.419941  0.464286          0          0          1          0   \n",
       "4    0.294118  0.254209  0.607143          0          0          0          1   \n",
       "..        ...       ...       ...        ...        ...        ...        ...   \n",
       "995  0.117647  0.081765  0.214286          0          0          1          0   \n",
       "996  0.382353  0.198470  0.375000          0          0          1          0   \n",
       "997  0.117647  0.030483  0.339286          0          0          1          0   \n",
       "998  0.602941  0.087763  0.071429          0          0          1          0   \n",
       "999  0.602941  0.238032  0.142857          0          0          0          0   \n",
       "\n",
       "     history_4  savings_1  savings_2  ...  job_1  job_2  job_3  job_4  \\\n",
       "0            1          0          0  ...      0      0      1      0   \n",
       "1            0          1          0  ...      0      0      1      0   \n",
       "2            1          1          0  ...      0      1      0      0   \n",
       "3            0          1          0  ...      0      0      1      0   \n",
       "4            0          1          0  ...      0      0      1      0   \n",
       "..         ...        ...        ...  ...    ...    ...    ...    ...   \n",
       "995          0          1          0  ...      0      1      0      0   \n",
       "996          0          1          0  ...      0      0      0      1   \n",
       "997          0          1          0  ...      0      0      1      0   \n",
       "998          0          1          0  ...      0      0      1      0   \n",
       "999          1          0          1  ...      0      0      1      0   \n",
       "\n",
       "     depends_1  depends_2  telephon_1  telephon_2  foreign_1  foreign_2  \n",
       "0            1          0           0           1          1          0  \n",
       "1            1          0           1           0          1          0  \n",
       "2            0          1           1           0          1          0  \n",
       "3            0          1           1           0          1          0  \n",
       "4            0          1           1           0          1          0  \n",
       "..         ...        ...         ...         ...        ...        ...  \n",
       "995          1          0           1           0          1          0  \n",
       "996          1          0           0           1          1          0  \n",
       "997          1          0           1           0          1          0  \n",
       "998          1          0           0           1          1          0  \n",
       "999          1          0           1           0          1          0  \n",
       "\n",
       "[1000 rows x 57 columns]"
      ]
     },
     "execution_count": 85,
     "metadata": {},
     "output_type": "execute_result"
    }
   ],
   "source": [
    "X_scale"
   ]
  },
  {
   "cell_type": "markdown",
   "id": "optical-aaron",
   "metadata": {},
   "source": [
    "### Dividing dataset into train and test"
   ]
  },
  {
   "cell_type": "code",
   "execution_count": 86,
   "id": "sudden-lightning",
   "metadata": {},
   "outputs": [],
   "source": [
    "X_train, X_test, y_train, y_test = train_test_split(X_scale, y, test_size=0.20)"
   ]
  },
  {
   "cell_type": "markdown",
   "id": "considered-popularity",
   "metadata": {},
   "source": [
    "### Building a SVM classifier with linear kernel"
   ]
  },
  {
   "cell_type": "code",
   "execution_count": 87,
   "id": "representative-scholarship",
   "metadata": {},
   "outputs": [],
   "source": [
    "SVM_classifier = svm.SVC(kernel='linear', random_state=np.random.seed(42))"
   ]
  },
  {
   "cell_type": "code",
   "execution_count": 88,
   "id": "reliable-negotiation",
   "metadata": {},
   "outputs": [
    {
     "data": {
      "text/plain": [
       "SVC(kernel='linear')"
      ]
     },
     "execution_count": 88,
     "metadata": {},
     "output_type": "execute_result"
    }
   ],
   "source": [
    "SVM_classifier.fit(X_train, y_train)"
   ]
  },
  {
   "cell_type": "code",
   "execution_count": 89,
   "id": "stable-seeking",
   "metadata": {},
   "outputs": [],
   "source": [
    "y_pred = SVM_classifier.predict(X_test)"
   ]
  },
  {
   "cell_type": "code",
   "execution_count": 90,
   "id": "automatic-facial",
   "metadata": {},
   "outputs": [
    {
     "name": "stdout",
     "output_type": "stream",
     "text": [
      "Accuracy: 0.715\n",
      "Precision: 0.7337278106508875\n",
      "Recall: 0.9117647058823529\n"
     ]
    }
   ],
   "source": [
    "print(\"Accuracy:\",metrics.accuracy_score(y_test, y_pred))\n",
    "print(\"Precision:\",metrics.precision_score(y_test, y_pred, pos_label=\"good\"))\n",
    "print(\"Recall:\",metrics.recall_score(y_test, y_pred, pos_label=\"good\"))"
   ]
  },
  {
   "cell_type": "code",
   "execution_count": 91,
   "id": "psychological-concentration",
   "metadata": {},
   "outputs": [],
   "source": [
    "accuracy_linear = metrics.accuracy_score(y_test, y_pred)\n",
    "precision_linear = metrics.precision_score(y_test, y_pred, pos_label=\"good\")\n",
    "recall_linear = metrics.recall_score(y_test, y_pred, pos_label=\"good\")"
   ]
  },
  {
   "cell_type": "markdown",
   "id": "excessive-integral",
   "metadata": {},
   "source": [
    "### Building a SVM classifier with RBF kernel"
   ]
  },
  {
   "cell_type": "code",
   "execution_count": 92,
   "id": "intimate-technique",
   "metadata": {},
   "outputs": [],
   "source": [
    "rbf_SVC = svm.SVC(kernel='rbf',  random_state=np.random.seed(42))"
   ]
  },
  {
   "cell_type": "code",
   "execution_count": 93,
   "id": "another-marshall",
   "metadata": {},
   "outputs": [
    {
     "data": {
      "text/plain": [
       "SVC()"
      ]
     },
     "execution_count": 93,
     "metadata": {},
     "output_type": "execute_result"
    }
   ],
   "source": [
    "rbf_SVC.fit(X_train, y_train)"
   ]
  },
  {
   "cell_type": "code",
   "execution_count": 94,
   "id": "mobile-plastic",
   "metadata": {},
   "outputs": [],
   "source": [
    "y_pred = rbf_SVC.predict(X_test)"
   ]
  },
  {
   "cell_type": "code",
   "execution_count": 95,
   "id": "sacred-seating",
   "metadata": {},
   "outputs": [
    {
     "name": "stdout",
     "output_type": "stream",
     "text": [
      "Accuracy: 0.665\n",
      "Precision: 0.6885245901639344\n",
      "Recall: 0.9264705882352942\n"
     ]
    }
   ],
   "source": [
    "print(\"Accuracy:\",metrics.accuracy_score(y_test, y_pred))\n",
    "print(\"Precision:\",metrics.precision_score(y_test, y_pred, pos_label=\"good\"))\n",
    "print(\"Recall:\",metrics.recall_score(y_test, y_pred, pos_label=\"good\"))"
   ]
  },
  {
   "cell_type": "code",
   "execution_count": 96,
   "id": "formed-heater",
   "metadata": {},
   "outputs": [],
   "source": [
    "accuracy_rbf = metrics.accuracy_score(y_test, y_pred)\n",
    "precision_rbf = metrics.precision_score(y_test, y_pred, pos_label=\"good\")\n",
    "recall_rbf = metrics.recall_score(y_test, y_pred, pos_label=\"good\")"
   ]
  },
  {
   "cell_type": "markdown",
   "id": "commercial-tourism",
   "metadata": {},
   "source": [
    "### Building a SVM classifier with Polynomial kernel"
   ]
  },
  {
   "cell_type": "code",
   "execution_count": 97,
   "id": "domestic-parish",
   "metadata": {},
   "outputs": [],
   "source": [
    "polynomial_SVC = svm.SVC(kernel='poly', degree=3,  random_state=np.random.seed(42))"
   ]
  },
  {
   "cell_type": "code",
   "execution_count": 98,
   "id": "anonymous-designation",
   "metadata": {},
   "outputs": [
    {
     "data": {
      "text/plain": [
       "SVC(kernel='poly')"
      ]
     },
     "execution_count": 98,
     "metadata": {},
     "output_type": "execute_result"
    }
   ],
   "source": [
    "polynomial_SVC.fit(X_train, y_train)"
   ]
  },
  {
   "cell_type": "code",
   "execution_count": 99,
   "id": "urban-blanket",
   "metadata": {},
   "outputs": [],
   "source": [
    "y_pred = polynomial_SVC.predict(X_test)"
   ]
  },
  {
   "cell_type": "code",
   "execution_count": 100,
   "id": "requested-violence",
   "metadata": {},
   "outputs": [
    {
     "name": "stdout",
     "output_type": "stream",
     "text": [
      "Accuracy: 0.685\n",
      "Precision: 0.7295597484276729\n",
      "Recall: 0.8529411764705882\n"
     ]
    }
   ],
   "source": [
    "print(\"Accuracy:\",metrics.accuracy_score(y_test, y_pred))\n",
    "print(\"Precision:\",metrics.precision_score(y_test, y_pred, pos_label=\"good\"))\n",
    "print(\"Recall:\",metrics.recall_score(y_test, y_pred, pos_label=\"good\"))"
   ]
  },
  {
   "cell_type": "code",
   "execution_count": 101,
   "id": "opposite-alignment",
   "metadata": {},
   "outputs": [],
   "source": [
    "accuracy_poly = metrics.accuracy_score(y_test, y_pred)\n",
    "precision_poly = metrics.precision_score(y_test, y_pred, pos_label=\"good\")\n",
    "recall_poly = metrics.recall_score(y_test, y_pred, pos_label=\"good\")"
   ]
  },
  {
   "cell_type": "markdown",
   "id": "substantial-clerk",
   "metadata": {},
   "source": [
    "### Building a SVM classifier with Sigmoid kernel"
   ]
  },
  {
   "cell_type": "code",
   "execution_count": 102,
   "id": "brazilian-seeker",
   "metadata": {},
   "outputs": [],
   "source": [
    "sigmoid_SVC = svm.SVC(kernel='sigmoid',  random_state=np.random.seed(42))"
   ]
  },
  {
   "cell_type": "code",
   "execution_count": 103,
   "id": "magnetic-champagne",
   "metadata": {},
   "outputs": [
    {
     "data": {
      "text/plain": [
       "SVC(kernel='sigmoid')"
      ]
     },
     "execution_count": 103,
     "metadata": {},
     "output_type": "execute_result"
    }
   ],
   "source": [
    "sigmoid_SVC.fit(X_train, y_train)"
   ]
  },
  {
   "cell_type": "code",
   "execution_count": 104,
   "id": "varying-knowing",
   "metadata": {},
   "outputs": [],
   "source": [
    "y_pred = sigmoid_SVC.predict(X_test)"
   ]
  },
  {
   "cell_type": "code",
   "execution_count": 105,
   "id": "neural-penguin",
   "metadata": {},
   "outputs": [
    {
     "name": "stdout",
     "output_type": "stream",
     "text": [
      "Accuracy: 0.68\n",
      "Precision: 0.6978021978021978\n",
      "Recall: 0.9338235294117647\n"
     ]
    }
   ],
   "source": [
    "print(\"Accuracy:\",metrics.accuracy_score(y_test, y_pred))\n",
    "print(\"Precision:\",metrics.precision_score(y_test, y_pred, pos_label=\"good\"))\n",
    "print(\"Recall:\",metrics.recall_score(y_test, y_pred, pos_label=\"good\"))"
   ]
  },
  {
   "cell_type": "code",
   "execution_count": 106,
   "id": "determined-massage",
   "metadata": {},
   "outputs": [],
   "source": [
    "accuracy_sigmoid = metrics.accuracy_score(y_test, y_pred)\n",
    "precision_sigmoid = metrics.precision_score(y_test, y_pred, pos_label=\"good\")\n",
    "recall_sigmoid = metrics.recall_score(y_test, y_pred, pos_label=\"good\")"
   ]
  },
  {
   "cell_type": "markdown",
   "id": "compound-meter",
   "metadata": {},
   "source": [
    "### Comparison of Kernels for Accuracy, Precision & Recall"
   ]
  },
  {
   "cell_type": "code",
   "execution_count": 107,
   "id": "handed-board",
   "metadata": {},
   "outputs": [],
   "source": [
    "results = pd.DataFrame({'Linear': [accuracy_linear, precision_linear, recall_linear ],\n",
    "                        'RBF': [accuracy_rbf, precision_rbf, recall_rbf],\n",
    "                        'Polynomial': [accuracy_poly, precision_poly, recall_poly  ],\n",
    "                        'Sigmoid': [accuracy_sigmoid, precision_sigmoid, recall_sigmoid ], \n",
    "    \n",
    "})"
   ]
  },
  {
   "cell_type": "code",
   "execution_count": 108,
   "id": "integral-timeline",
   "metadata": {},
   "outputs": [],
   "source": [
    "results.index = ['Accuracy', 'Precision', 'Recall']"
   ]
  },
  {
   "cell_type": "code",
   "execution_count": 109,
   "id": "proud-daughter",
   "metadata": {},
   "outputs": [
    {
     "data": {
      "text/html": [
       "<div>\n",
       "<style scoped>\n",
       "    .dataframe tbody tr th:only-of-type {\n",
       "        vertical-align: middle;\n",
       "    }\n",
       "\n",
       "    .dataframe tbody tr th {\n",
       "        vertical-align: top;\n",
       "    }\n",
       "\n",
       "    .dataframe thead th {\n",
       "        text-align: right;\n",
       "    }\n",
       "</style>\n",
       "<table border=\"1\" class=\"dataframe\">\n",
       "  <thead>\n",
       "    <tr style=\"text-align: right;\">\n",
       "      <th></th>\n",
       "      <th>Linear</th>\n",
       "      <th>RBF</th>\n",
       "      <th>Polynomial</th>\n",
       "      <th>Sigmoid</th>\n",
       "    </tr>\n",
       "  </thead>\n",
       "  <tbody>\n",
       "    <tr>\n",
       "      <th>Accuracy</th>\n",
       "      <td>0.715000</td>\n",
       "      <td>0.665000</td>\n",
       "      <td>0.685000</td>\n",
       "      <td>0.680000</td>\n",
       "    </tr>\n",
       "    <tr>\n",
       "      <th>Precision</th>\n",
       "      <td>0.733728</td>\n",
       "      <td>0.688525</td>\n",
       "      <td>0.729560</td>\n",
       "      <td>0.697802</td>\n",
       "    </tr>\n",
       "    <tr>\n",
       "      <th>Recall</th>\n",
       "      <td>0.911765</td>\n",
       "      <td>0.926471</td>\n",
       "      <td>0.852941</td>\n",
       "      <td>0.933824</td>\n",
       "    </tr>\n",
       "  </tbody>\n",
       "</table>\n",
       "</div>"
      ],
      "text/plain": [
       "             Linear       RBF  Polynomial   Sigmoid\n",
       "Accuracy   0.715000  0.665000    0.685000  0.680000\n",
       "Precision  0.733728  0.688525    0.729560  0.697802\n",
       "Recall     0.911765  0.926471    0.852941  0.933824"
      ]
     },
     "execution_count": 109,
     "metadata": {},
     "output_type": "execute_result"
    }
   ],
   "source": [
    "results"
   ]
  },
  {
   "cell_type": "markdown",
   "id": "floating-marketing",
   "metadata": {},
   "source": [
    "### Hyperparameter tuning using GridSearchCV"
   ]
  },
  {
   "cell_type": "code",
   "execution_count": 110,
   "id": "cellular-trailer",
   "metadata": {},
   "outputs": [
    {
     "data": {
      "text/plain": [
       "GridSearchCV(estimator=SVC(),\n",
       "             param_grid={'C': [0.1, 1, 10, 100], 'gamma': [1, 0.1, 0.01, 0.001],\n",
       "                         'kernel': ['rbf', 'poly', 'sigmoid']})"
      ]
     },
     "execution_count": 110,
     "metadata": {},
     "output_type": "execute_result"
    }
   ],
   "source": [
    "svc = svm.SVC()\n",
    "param_grid = {'C': [0.1,1, 10, 100], 'gamma': [1,0.1,0.01,0.001],'kernel': ['rbf', 'poly', 'sigmoid']}\n",
    "grid = GridSearchCV(svc,param_grid)\n",
    "grid.fit(X_train,y_train)"
   ]
  },
  {
   "cell_type": "markdown",
   "id": "modified-harris",
   "metadata": {},
   "source": [
    "#### Viewing the best hyperparameters"
   ]
  },
  {
   "cell_type": "code",
   "execution_count": 111,
   "id": "imposed-installation",
   "metadata": {},
   "outputs": [
    {
     "name": "stdout",
     "output_type": "stream",
     "text": [
      "SVC(C=100, gamma=0.001)\n"
     ]
    }
   ],
   "source": [
    "print(grid.best_estimator_)"
   ]
  },
  {
   "cell_type": "code",
   "execution_count": 112,
   "id": "handed-moore",
   "metadata": {},
   "outputs": [
    {
     "name": "stdout",
     "output_type": "stream",
     "text": [
      "Best C: 100\n"
     ]
    }
   ],
   "source": [
    "print('Best C:', grid.best_estimator_.get_params()['C'])"
   ]
  },
  {
   "cell_type": "code",
   "execution_count": 113,
   "id": "close-investment",
   "metadata": {},
   "outputs": [
    {
     "name": "stdout",
     "output_type": "stream",
     "text": [
      "Best gamma: 0.001\n"
     ]
    }
   ],
   "source": [
    "print('Best gamma:', grid.best_estimator_.get_params()['gamma'])"
   ]
  },
  {
   "cell_type": "code",
   "execution_count": 114,
   "id": "animated-church",
   "metadata": {},
   "outputs": [
    {
     "name": "stdout",
     "output_type": "stream",
     "text": [
      "Best kernel: rbf\n"
     ]
    }
   ],
   "source": [
    "print('Best kernel:', grid.best_estimator_.get_params()['kernel'])"
   ]
  }
 ],
 "metadata": {
  "kernelspec": {
   "display_name": "Python 3",
   "language": "python",
   "name": "python3"
  },
  "language_info": {
   "codemirror_mode": {
    "name": "ipython",
    "version": 3
   },
   "file_extension": ".py",
   "mimetype": "text/x-python",
   "name": "python",
   "nbconvert_exporter": "python",
   "pygments_lexer": "ipython3",
   "version": "3.8.5"
  }
 },
 "nbformat": 4,
 "nbformat_minor": 5
}
